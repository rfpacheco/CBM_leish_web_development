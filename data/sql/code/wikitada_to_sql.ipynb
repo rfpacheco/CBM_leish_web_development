{
 "cells": [
  {
   "cell_type": "markdown",
   "metadata": {},
   "source": [
    "# Needed modules"
   ]
  },
  {
   "cell_type": "code",
   "metadata": {
    "ExecuteTime": {
     "end_time": "2024-09-06T10:39:18.890587Z",
     "start_time": "2024-09-06T10:39:18.886099Z"
    }
   },
   "source": [
    "import numpy as np\n",
    "import pandas as pd\n",
    "import os\n",
    "import pickle\n",
    "import sqlite3"
   ],
   "outputs": [],
   "execution_count": 5
  },
  {
   "cell_type": "code",
   "metadata": {
    "ExecuteTime": {
     "end_time": "2024-09-06T10:39:18.922167Z",
     "start_time": "2024-09-06T10:39:18.918729Z"
    }
   },
   "source": [
    "# https://kioku-space.com/en/jupyter-skip-execution/\n",
    "from IPython.core.magic import register_cell_magic # type: ignore\n",
    "\n",
    "@register_cell_magic\n",
    "def skip(line, cell):\n",
    "    return"
   ],
   "outputs": [],
   "execution_count": 6
  },
  {
   "cell_type": "markdown",
   "metadata": {},
   "source": [
    "# Pickle save"
   ]
  },
  {
   "cell_type": "code",
   "metadata": {
    "ExecuteTime": {
     "end_time": "2024-09-06T10:39:18.975719Z",
     "start_time": "2024-09-06T10:39:18.970152Z"
    }
   },
   "source": [
    "%%skip\n",
    "# =============================================================================\n",
    "# main function\n",
    "# =============================================================================\n",
    "def data_save_load(option):\n",
    "    \"\"\"\n",
    "    This function is used to save or load data for the jupyter notebook\n",
    "    \"\"\"\n",
    "    path_folder = \"ipynb_db\"  # Folder to save variables\n",
    "    os.makedirs(path_folder, exist_ok=True)  # Create folder if not exist\n",
    "    path_file = os.path.join(path_folder, \"variables.pkl\") # Path to save the variables\n",
    "\n",
    "    if option == \"save\":\n",
    "        # Save the variables\n",
    "        variables_dict = {\n",
    "            \"df_main\" : df_main\n",
    "            }\n",
    "\n",
    "        with open(path_file, \"wb\") as f:\n",
    "            pickle.dump(variables_dict, f)\n",
    "\n",
    "\n",
    "    elif option == \"load\":\n",
    "        with open(path_file, \"rb\") as f:\n",
    "            variables = pickle.load(f)\n",
    "        # Now load the variables\n",
    "        for key, value in variables.items():\n",
    "            print (f\"Loading variable: {key}\") \n",
    "            globals()[key] = value  # Assign the value to the variable\n",
    "\n",
    "# =============================================================================\n",
    "# Call the function\n",
    "# =============================================================================\n",
    "data_save_load(option=\"save\")"
   ],
   "outputs": [],
   "execution_count": 7
  },
  {
   "cell_type": "markdown",
   "metadata": {},
   "source": [
    "# 1. Preparing data"
   ]
  },
  {
   "cell_type": "markdown",
   "metadata": {},
   "source": [
    "Bear in mind the original wikidata table has like 36 tabs in the excel file that are of our interest. Apart from that 36 files there are some that we don't want, such as \"VARIOS\" or \"C-Sastre\""
   ]
  },
  {
   "cell_type": "markdown",
   "metadata": {},
   "source": [
    "## 1.1 Load data"
   ]
  },
  {
   "cell_type": "code",
   "metadata": {
    "ExecuteTime": {
     "end_time": "2024-09-06T10:39:19.027294Z",
     "start_time": "2024-09-06T10:39:19.022947Z"
    }
   },
   "source": [
    "# Path to the data\n",
    "path_wiki_xlsx = \"~/Downloads/tmp/20240723142835_LinJPC-Wikipedia-2024.xlsx\""
   ],
   "outputs": [],
   "execution_count": 8
  },
  {
   "cell_type": "code",
   "metadata": {
    "ExecuteTime": {
     "end_time": "2024-09-06T10:39:19.109567Z",
     "start_time": "2024-09-06T10:39:19.105245Z"
    }
   },
   "source": [
    "# Needed columns in the excel file\n",
    "needed_sheets = [f\"Crom{i}\" for i in range (1, 36+1)]\n",
    "print(needed_sheets) "
   ],
   "outputs": [
    {
     "name": "stdout",
     "output_type": "stream",
     "text": [
      "['Crom1', 'Crom2', 'Crom3', 'Crom4', 'Crom5', 'Crom6', 'Crom7', 'Crom8', 'Crom9', 'Crom10', 'Crom11', 'Crom12', 'Crom13', 'Crom14', 'Crom15', 'Crom16', 'Crom17', 'Crom18', 'Crom19', 'Crom20', 'Crom21', 'Crom22', 'Crom23', 'Crom24', 'Crom25', 'Crom26', 'Crom27', 'Crom28', 'Crom29', 'Crom30', 'Crom31', 'Crom32', 'Crom33', 'Crom34', 'Crom35', 'Crom36']\n"
     ]
    }
   ],
   "execution_count": 9
  },
  {
   "cell_type": "code",
   "metadata": {
    "ExecuteTime": {
     "end_time": "2024-09-06T10:39:21.066390Z",
     "start_time": "2024-09-06T10:39:19.212656Z"
    }
   },
   "source": [
    "# Read the data\n",
    "pre_wiki_df = pd.read_excel(path_wiki_xlsx, \n",
    "                            sheet_name=needed_sheets,\n",
    "                            engine='openpyxl')"
   ],
   "outputs": [],
   "execution_count": 10
  },
  {
   "cell_type": "code",
   "metadata": {
    "ExecuteTime": {
     "end_time": "2024-09-06T10:39:21.121631Z",
     "start_time": "2024-09-06T10:39:21.078224Z"
    }
   },
   "source": [
    "# Merge all Data Frames into a single one\n",
    "wiki_df = pd.concat(pre_wiki_df.values(), ignore_index=True, sort=False)\n",
    "\n",
    "# Replace missing values with NaN\n",
    "wiki_df = wiki_df.fillna(value=np.nan)"
   ],
   "outputs": [],
   "execution_count": 11
  },
  {
   "cell_type": "code",
   "metadata": {
    "ExecuteTime": {
     "end_time": "2024-09-06T10:39:21.197714Z",
     "start_time": "2024-09-06T10:39:21.174616Z"
    }
   },
   "source": [
    "# Inspect data frame\n",
    "print(wiki_df.shape)\n",
    "print(wiki_df.dtypes)\n",
    "wiki_df.head()"
   ],
   "outputs": [
    {
     "name": "stdout",
     "output_type": "stream",
     "text": [
      "(8881, 30)\n",
      "Etiqueta                  object\n",
      "Wikidata                  object\n",
      "Mendeley dataset          object\n",
      "Description               object\n",
      "Descripción               object\n",
      "Otros nombres             object\n",
      "LMJFC ortólogo            object\n",
      "LmjF ortólogo             object\n",
      "Función molecular         object\n",
      "Referencia1               object\n",
      "Referencia2               object\n",
      "Otras Referencias         object\n",
      "Gen                       object\n",
      "CDS                       object\n",
      "Proteina                  object\n",
      "Notas                     object\n",
      "Proteoma Experimental     object\n",
      "LBRM2904 ortólogo         object\n",
      "Wikidata-LbrM2904         object\n",
      "LdHU3 ortólogo            object\n",
      "Otras referencias         object\n",
      "Proteína                  object\n",
      "Gene                      object\n",
      "OtrasReferencias          object\n",
      "LbrM2904 ortólogo         object\n",
      "LbrM ortólogo             object\n",
      "Unnamed: 16              float64\n",
      "Aminoácidos               object\n",
      "Imagen                    object\n",
      "Imagen Wiki               object\n",
      "dtype: object\n"
     ]
    },
    {
     "data": {
      "text/plain": [
       "         Etiqueta   Wikidata                         Mendeley dataset  \\\n",
       "0  LINF_010005000  Q62005644  http://dx.doi.org/10.17632/m9mggnd5w4.1   \n",
       "1  LINF_010005100  Q65246947  http://dx.doi.org/10.17632/d99ycn2bhb.1   \n",
       "2  LINF_010005200  Q65459375  http://dx.doi.org/10.17632/vsmrprnpb5.2   \n",
       "3  LINF_010005300  Q65461401  http://dx.doi.org/10.17632/78btgwdkx9.1   \n",
       "4  LINF_010005400  Q65463295  http://dx.doi.org/10.17632/b79hrctkww.1   \n",
       "\n",
       "                                   Description  \\\n",
       "0        Protein of unknown function (DUF2946)   \n",
       "1  Endonuclease/Exonuclease/phosphatase family   \n",
       "2                                   Kinesin-13   \n",
       "3             hypothetical protein - conserved   \n",
       "4        Propionyl-CoA carboxylase - α-subunit   \n",
       "\n",
       "                                         Descripción Otros nombres  \\\n",
       "0  Proteína de función desconocida con dominio DU...  LinJ.01.0010   \n",
       "1  proteína de la familia de endonucleasa/exonucl...  LinJ.01.0020   \n",
       "2                                       Kinesina-13   LinJ.01.0030   \n",
       "3                   Proteína hipotética - conservada  LinJ.01.0040   \n",
       "4            Propionil-CoA carboxilasa - subunidad α  LinJ.01.0050   \n",
       "\n",
       "    LMJFC ortólogo LmjF ortólogo Función molecular  \\\n",
       "0  LMJFC_010005100  LmjF.01.0010               NaN   \n",
       "1  LMJFC_010005200  LmjF.01.0020               NaN   \n",
       "2  LMJFC_010005300  LmjF.01.0030               NaN   \n",
       "3  LMJFC_010005400  LmjF.01.0040               NaN   \n",
       "4  LMJFC_010005500  LmjF.01.0050               NaN   \n",
       "\n",
       "                                         Referencia1  ... Otras referencias  \\\n",
       "0                                                NaN  ...               NaN   \n",
       "1                                                NaN  ...               NaN   \n",
       "2                                                NaN  ...               NaN   \n",
       "3                                                NaN  ...               NaN   \n",
       "4  Lee, J.K.J., Liu, Y.T., Hu, J.J., Aphasizheva,...  ...               NaN   \n",
       "\n",
       "  Proteína Gene OtrasReferencias LbrM2904 ortólogo LbrM ortólogo Unnamed: 16  \\\n",
       "0      NaN  NaN              NaN               NaN           NaN         NaN   \n",
       "1      NaN  NaN              NaN               NaN           NaN         NaN   \n",
       "2      NaN  NaN              NaN               NaN           NaN         NaN   \n",
       "3      NaN  NaN              NaN               NaN           NaN         NaN   \n",
       "4      NaN  NaN              NaN               NaN           NaN         NaN   \n",
       "\n",
       "  Aminoácidos Imagen Imagen Wiki  \n",
       "0         NaN    NaN         NaN  \n",
       "1         NaN    NaN         NaN  \n",
       "2         NaN    NaN         NaN  \n",
       "3         NaN    NaN         NaN  \n",
       "4         NaN    NaN         NaN  \n",
       "\n",
       "[5 rows x 30 columns]"
      ],
      "text/html": [
       "<div>\n",
       "<style scoped>\n",
       "    .dataframe tbody tr th:only-of-type {\n",
       "        vertical-align: middle;\n",
       "    }\n",
       "\n",
       "    .dataframe tbody tr th {\n",
       "        vertical-align: top;\n",
       "    }\n",
       "\n",
       "    .dataframe thead th {\n",
       "        text-align: right;\n",
       "    }\n",
       "</style>\n",
       "<table border=\"1\" class=\"dataframe\">\n",
       "  <thead>\n",
       "    <tr style=\"text-align: right;\">\n",
       "      <th></th>\n",
       "      <th>Etiqueta</th>\n",
       "      <th>Wikidata</th>\n",
       "      <th>Mendeley dataset</th>\n",
       "      <th>Description</th>\n",
       "      <th>Descripción</th>\n",
       "      <th>Otros nombres</th>\n",
       "      <th>LMJFC ortólogo</th>\n",
       "      <th>LmjF ortólogo</th>\n",
       "      <th>Función molecular</th>\n",
       "      <th>Referencia1</th>\n",
       "      <th>...</th>\n",
       "      <th>Otras referencias</th>\n",
       "      <th>Proteína</th>\n",
       "      <th>Gene</th>\n",
       "      <th>OtrasReferencias</th>\n",
       "      <th>LbrM2904 ortólogo</th>\n",
       "      <th>LbrM ortólogo</th>\n",
       "      <th>Unnamed: 16</th>\n",
       "      <th>Aminoácidos</th>\n",
       "      <th>Imagen</th>\n",
       "      <th>Imagen Wiki</th>\n",
       "    </tr>\n",
       "  </thead>\n",
       "  <tbody>\n",
       "    <tr>\n",
       "      <th>0</th>\n",
       "      <td>LINF_010005000</td>\n",
       "      <td>Q62005644</td>\n",
       "      <td>http://dx.doi.org/10.17632/m9mggnd5w4.1</td>\n",
       "      <td>Protein of unknown function (DUF2946)</td>\n",
       "      <td>Proteína de función desconocida con dominio DU...</td>\n",
       "      <td>LinJ.01.0010</td>\n",
       "      <td>LMJFC_010005100</td>\n",
       "      <td>LmjF.01.0010</td>\n",
       "      <td>NaN</td>\n",
       "      <td>NaN</td>\n",
       "      <td>...</td>\n",
       "      <td>NaN</td>\n",
       "      <td>NaN</td>\n",
       "      <td>NaN</td>\n",
       "      <td>NaN</td>\n",
       "      <td>NaN</td>\n",
       "      <td>NaN</td>\n",
       "      <td>NaN</td>\n",
       "      <td>NaN</td>\n",
       "      <td>NaN</td>\n",
       "      <td>NaN</td>\n",
       "    </tr>\n",
       "    <tr>\n",
       "      <th>1</th>\n",
       "      <td>LINF_010005100</td>\n",
       "      <td>Q65246947</td>\n",
       "      <td>http://dx.doi.org/10.17632/d99ycn2bhb.1</td>\n",
       "      <td>Endonuclease/Exonuclease/phosphatase family</td>\n",
       "      <td>proteína de la familia de endonucleasa/exonucl...</td>\n",
       "      <td>LinJ.01.0020</td>\n",
       "      <td>LMJFC_010005200</td>\n",
       "      <td>LmjF.01.0020</td>\n",
       "      <td>NaN</td>\n",
       "      <td>NaN</td>\n",
       "      <td>...</td>\n",
       "      <td>NaN</td>\n",
       "      <td>NaN</td>\n",
       "      <td>NaN</td>\n",
       "      <td>NaN</td>\n",
       "      <td>NaN</td>\n",
       "      <td>NaN</td>\n",
       "      <td>NaN</td>\n",
       "      <td>NaN</td>\n",
       "      <td>NaN</td>\n",
       "      <td>NaN</td>\n",
       "    </tr>\n",
       "    <tr>\n",
       "      <th>2</th>\n",
       "      <td>LINF_010005200</td>\n",
       "      <td>Q65459375</td>\n",
       "      <td>http://dx.doi.org/10.17632/vsmrprnpb5.2</td>\n",
       "      <td>Kinesin-13</td>\n",
       "      <td>Kinesina-13</td>\n",
       "      <td>LinJ.01.0030</td>\n",
       "      <td>LMJFC_010005300</td>\n",
       "      <td>LmjF.01.0030</td>\n",
       "      <td>NaN</td>\n",
       "      <td>NaN</td>\n",
       "      <td>...</td>\n",
       "      <td>NaN</td>\n",
       "      <td>NaN</td>\n",
       "      <td>NaN</td>\n",
       "      <td>NaN</td>\n",
       "      <td>NaN</td>\n",
       "      <td>NaN</td>\n",
       "      <td>NaN</td>\n",
       "      <td>NaN</td>\n",
       "      <td>NaN</td>\n",
       "      <td>NaN</td>\n",
       "    </tr>\n",
       "    <tr>\n",
       "      <th>3</th>\n",
       "      <td>LINF_010005300</td>\n",
       "      <td>Q65461401</td>\n",
       "      <td>http://dx.doi.org/10.17632/78btgwdkx9.1</td>\n",
       "      <td>hypothetical protein - conserved</td>\n",
       "      <td>Proteína hipotética - conservada</td>\n",
       "      <td>LinJ.01.0040</td>\n",
       "      <td>LMJFC_010005400</td>\n",
       "      <td>LmjF.01.0040</td>\n",
       "      <td>NaN</td>\n",
       "      <td>NaN</td>\n",
       "      <td>...</td>\n",
       "      <td>NaN</td>\n",
       "      <td>NaN</td>\n",
       "      <td>NaN</td>\n",
       "      <td>NaN</td>\n",
       "      <td>NaN</td>\n",
       "      <td>NaN</td>\n",
       "      <td>NaN</td>\n",
       "      <td>NaN</td>\n",
       "      <td>NaN</td>\n",
       "      <td>NaN</td>\n",
       "    </tr>\n",
       "    <tr>\n",
       "      <th>4</th>\n",
       "      <td>LINF_010005400</td>\n",
       "      <td>Q65463295</td>\n",
       "      <td>http://dx.doi.org/10.17632/b79hrctkww.1</td>\n",
       "      <td>Propionyl-CoA carboxylase - α-subunit</td>\n",
       "      <td>Propionil-CoA carboxilasa - subunidad α</td>\n",
       "      <td>LinJ.01.0050</td>\n",
       "      <td>LMJFC_010005500</td>\n",
       "      <td>LmjF.01.0050</td>\n",
       "      <td>NaN</td>\n",
       "      <td>Lee, J.K.J., Liu, Y.T., Hu, J.J., Aphasizheva,...</td>\n",
       "      <td>...</td>\n",
       "      <td>NaN</td>\n",
       "      <td>NaN</td>\n",
       "      <td>NaN</td>\n",
       "      <td>NaN</td>\n",
       "      <td>NaN</td>\n",
       "      <td>NaN</td>\n",
       "      <td>NaN</td>\n",
       "      <td>NaN</td>\n",
       "      <td>NaN</td>\n",
       "      <td>NaN</td>\n",
       "    </tr>\n",
       "  </tbody>\n",
       "</table>\n",
       "<p>5 rows × 30 columns</p>\n",
       "</div>"
      ]
     },
     "execution_count": 12,
     "metadata": {},
     "output_type": "execute_result"
    }
   ],
   "execution_count": 12
  },
  {
   "cell_type": "markdown",
   "metadata": {},
   "source": [
    "## 1.2 Correct data"
   ]
  },
  {
   "cell_type": "code",
   "metadata": {
    "ExecuteTime": {
     "end_time": "2024-09-06T10:39:21.380340Z",
     "start_time": "2024-09-06T10:39:21.375572Z"
    }
   },
   "source": [
    "# Let's check again only the columns\n",
    "wiki_df.dtypes"
   ],
   "outputs": [
    {
     "data": {
      "text/plain": [
       "Etiqueta                  object\n",
       "Wikidata                  object\n",
       "Mendeley dataset          object\n",
       "Description               object\n",
       "Descripción               object\n",
       "Otros nombres             object\n",
       "LMJFC ortólogo            object\n",
       "LmjF ortólogo             object\n",
       "Función molecular         object\n",
       "Referencia1               object\n",
       "Referencia2               object\n",
       "Otras Referencias         object\n",
       "Gen                       object\n",
       "CDS                       object\n",
       "Proteina                  object\n",
       "Notas                     object\n",
       "Proteoma Experimental     object\n",
       "LBRM2904 ortólogo         object\n",
       "Wikidata-LbrM2904         object\n",
       "LdHU3 ortólogo            object\n",
       "Otras referencias         object\n",
       "Proteína                  object\n",
       "Gene                      object\n",
       "OtrasReferencias          object\n",
       "LbrM2904 ortólogo         object\n",
       "LbrM ortólogo             object\n",
       "Unnamed: 16              float64\n",
       "Aminoácidos               object\n",
       "Imagen                    object\n",
       "Imagen Wiki               object\n",
       "dtype: object"
      ]
     },
     "execution_count": 13,
     "metadata": {},
     "output_type": "execute_result"
    }
   ],
   "execution_count": 13
  },
  {
   "cell_type": "markdown",
   "metadata": {},
   "source": [
    "The only columns needed are the next ones:\n",
    "* **Etiqueta**: Gene ID.\n",
    "* **Description**: names to use for the element. If there are more than one, it's separated by \"|\".\n",
    "* **Otros nombres**: old names when they were discovered first.\n",
    "* **Orthologs**: different orthologs in *L. major*, *L. donovani*, *L. braziliensis*.\n",
    "  * **LMJFC ortólogo**: old *L. major* strand ortholog.\n",
    "  * **LmjF ortólogo**: current *L. major* strand ortholog.\n",
    "  * **LBRM2904 ortólogo**: *L. braziliensis* ortholog? <mark>CHECK IT</mark>\n",
    "  * **LdHU3 ortólogo**: *L. donovani* ortholog.\n",
    "  * **LbrM2904 ortólogo**: *L. braziliensis* ortholog.\n",
    "  * **LbrM ortólogo**: *L. braziliensis* ortholog.\n",
    "* **Wikidata**: ID to search in wikidata.\n",
    "* **Mendeley dataset**: ID for Mendeley data.  "
   ]
  },
  {
   "cell_type": "markdown",
   "metadata": {},
   "source": [
    "Apart from that, we need another column for **Uniprot** searching."
   ]
  },
  {
   "cell_type": "markdown",
   "metadata": {},
   "source": [
    "We can see that we need a lot of columns, But we shall be careful with:\n",
    "* **Orthologs**: there are a lot of them and I don't know if all of them are useful.\n",
    "* **Mendeley data**: two versions or what?"
   ]
  },
  {
   "cell_type": "markdown",
   "metadata": {},
   "source": [
    "### 1.2.1 Take needed columns"
   ]
  },
  {
   "cell_type": "code",
   "metadata": {
    "ExecuteTime": {
     "end_time": "2024-09-06T10:39:21.489062Z",
     "start_time": "2024-09-06T10:39:21.464834Z"
    }
   },
   "source": [
    "needed_cols = [\n",
    "    \"Etiqueta\",\n",
    "    \"Description\",\n",
    "    \"Otros nombres\",\n",
    "    \"Wikidata\",\n",
    "    \"Mendeley dataset\",\n",
    "    \"LmjF ortólogo\",\n",
    "    \"LMJFC ortólogo\",\n",
    "    \"LdHU3 ortólogo\",\n",
    "    \"LBRM2904 ortólogo\",\n",
    "    \"LbrM2904 ortólogo\",\n",
    "    \"LbrM ortólogo\"\n",
    "    ]\n",
    "\n",
    "df_main = wiki_df[needed_cols]\n",
    "print(df_main.shape)\n",
    "df_main.head()"
   ],
   "outputs": [
    {
     "name": "stdout",
     "output_type": "stream",
     "text": [
      "(8881, 11)\n"
     ]
    },
    {
     "data": {
      "text/plain": [
       "         Etiqueta                                  Description Otros nombres  \\\n",
       "0  LINF_010005000        Protein of unknown function (DUF2946)  LinJ.01.0010   \n",
       "1  LINF_010005100  Endonuclease/Exonuclease/phosphatase family  LinJ.01.0020   \n",
       "2  LINF_010005200                                   Kinesin-13  LinJ.01.0030   \n",
       "3  LINF_010005300             hypothetical protein - conserved  LinJ.01.0040   \n",
       "4  LINF_010005400        Propionyl-CoA carboxylase - α-subunit  LinJ.01.0050   \n",
       "\n",
       "    Wikidata                         Mendeley dataset LmjF ortólogo  \\\n",
       "0  Q62005644  http://dx.doi.org/10.17632/m9mggnd5w4.1  LmjF.01.0010   \n",
       "1  Q65246947  http://dx.doi.org/10.17632/d99ycn2bhb.1  LmjF.01.0020   \n",
       "2  Q65459375  http://dx.doi.org/10.17632/vsmrprnpb5.2  LmjF.01.0030   \n",
       "3  Q65461401  http://dx.doi.org/10.17632/78btgwdkx9.1  LmjF.01.0040   \n",
       "4  Q65463295  http://dx.doi.org/10.17632/b79hrctkww.1  LmjF.01.0050   \n",
       "\n",
       "    LMJFC ortólogo LdHU3 ortólogo LBRM2904 ortólogo LbrM2904 ortólogo  \\\n",
       "0  LMJFC_010005100  LDHU3_01.0030               NaN               NaN   \n",
       "1  LMJFC_010005200  LDHU3_01.0040  LBRM2904_01.0010               NaN   \n",
       "2  LMJFC_010005300  LDHU3_01.0050  LBRM2904_01.0020               NaN   \n",
       "3  LMJFC_010005400  LDHU3_01.0060  LBRM2904_01.0030               NaN   \n",
       "4  LMJFC_010005500  LDHU3_01.0070  LBRM2904_01.0040               NaN   \n",
       "\n",
       "  LbrM ortólogo  \n",
       "0           NaN  \n",
       "1           NaN  \n",
       "2           NaN  \n",
       "3           NaN  \n",
       "4           NaN  "
      ],
      "text/html": [
       "<div>\n",
       "<style scoped>\n",
       "    .dataframe tbody tr th:only-of-type {\n",
       "        vertical-align: middle;\n",
       "    }\n",
       "\n",
       "    .dataframe tbody tr th {\n",
       "        vertical-align: top;\n",
       "    }\n",
       "\n",
       "    .dataframe thead th {\n",
       "        text-align: right;\n",
       "    }\n",
       "</style>\n",
       "<table border=\"1\" class=\"dataframe\">\n",
       "  <thead>\n",
       "    <tr style=\"text-align: right;\">\n",
       "      <th></th>\n",
       "      <th>Etiqueta</th>\n",
       "      <th>Description</th>\n",
       "      <th>Otros nombres</th>\n",
       "      <th>Wikidata</th>\n",
       "      <th>Mendeley dataset</th>\n",
       "      <th>LmjF ortólogo</th>\n",
       "      <th>LMJFC ortólogo</th>\n",
       "      <th>LdHU3 ortólogo</th>\n",
       "      <th>LBRM2904 ortólogo</th>\n",
       "      <th>LbrM2904 ortólogo</th>\n",
       "      <th>LbrM ortólogo</th>\n",
       "    </tr>\n",
       "  </thead>\n",
       "  <tbody>\n",
       "    <tr>\n",
       "      <th>0</th>\n",
       "      <td>LINF_010005000</td>\n",
       "      <td>Protein of unknown function (DUF2946)</td>\n",
       "      <td>LinJ.01.0010</td>\n",
       "      <td>Q62005644</td>\n",
       "      <td>http://dx.doi.org/10.17632/m9mggnd5w4.1</td>\n",
       "      <td>LmjF.01.0010</td>\n",
       "      <td>LMJFC_010005100</td>\n",
       "      <td>LDHU3_01.0030</td>\n",
       "      <td>NaN</td>\n",
       "      <td>NaN</td>\n",
       "      <td>NaN</td>\n",
       "    </tr>\n",
       "    <tr>\n",
       "      <th>1</th>\n",
       "      <td>LINF_010005100</td>\n",
       "      <td>Endonuclease/Exonuclease/phosphatase family</td>\n",
       "      <td>LinJ.01.0020</td>\n",
       "      <td>Q65246947</td>\n",
       "      <td>http://dx.doi.org/10.17632/d99ycn2bhb.1</td>\n",
       "      <td>LmjF.01.0020</td>\n",
       "      <td>LMJFC_010005200</td>\n",
       "      <td>LDHU3_01.0040</td>\n",
       "      <td>LBRM2904_01.0010</td>\n",
       "      <td>NaN</td>\n",
       "      <td>NaN</td>\n",
       "    </tr>\n",
       "    <tr>\n",
       "      <th>2</th>\n",
       "      <td>LINF_010005200</td>\n",
       "      <td>Kinesin-13</td>\n",
       "      <td>LinJ.01.0030</td>\n",
       "      <td>Q65459375</td>\n",
       "      <td>http://dx.doi.org/10.17632/vsmrprnpb5.2</td>\n",
       "      <td>LmjF.01.0030</td>\n",
       "      <td>LMJFC_010005300</td>\n",
       "      <td>LDHU3_01.0050</td>\n",
       "      <td>LBRM2904_01.0020</td>\n",
       "      <td>NaN</td>\n",
       "      <td>NaN</td>\n",
       "    </tr>\n",
       "    <tr>\n",
       "      <th>3</th>\n",
       "      <td>LINF_010005300</td>\n",
       "      <td>hypothetical protein - conserved</td>\n",
       "      <td>LinJ.01.0040</td>\n",
       "      <td>Q65461401</td>\n",
       "      <td>http://dx.doi.org/10.17632/78btgwdkx9.1</td>\n",
       "      <td>LmjF.01.0040</td>\n",
       "      <td>LMJFC_010005400</td>\n",
       "      <td>LDHU3_01.0060</td>\n",
       "      <td>LBRM2904_01.0030</td>\n",
       "      <td>NaN</td>\n",
       "      <td>NaN</td>\n",
       "    </tr>\n",
       "    <tr>\n",
       "      <th>4</th>\n",
       "      <td>LINF_010005400</td>\n",
       "      <td>Propionyl-CoA carboxylase - α-subunit</td>\n",
       "      <td>LinJ.01.0050</td>\n",
       "      <td>Q65463295</td>\n",
       "      <td>http://dx.doi.org/10.17632/b79hrctkww.1</td>\n",
       "      <td>LmjF.01.0050</td>\n",
       "      <td>LMJFC_010005500</td>\n",
       "      <td>LDHU3_01.0070</td>\n",
       "      <td>LBRM2904_01.0040</td>\n",
       "      <td>NaN</td>\n",
       "      <td>NaN</td>\n",
       "    </tr>\n",
       "  </tbody>\n",
       "</table>\n",
       "</div>"
      ]
     },
     "execution_count": 14,
     "metadata": {},
     "output_type": "execute_result"
    }
   ],
   "execution_count": 14
  },
  {
   "cell_type": "markdown",
   "metadata": {},
   "source": [
    "### 1.2.2 Check the *L. braziliensis* orthologs"
   ]
  },
  {
   "cell_type": "markdown",
   "metadata": {},
   "source": [
    "Let's check all the conflicted columns:"
   ]
  },
  {
   "cell_type": "code",
   "metadata": {
    "ExecuteTime": {
     "end_time": "2024-09-06T10:39:21.697280Z",
     "start_time": "2024-09-06T10:39:21.692765Z"
    }
   },
   "source": [
    "# Columns to observe:\n",
    "braz_ortho_cols = [\n",
    "    \"LBRM2904 ortólogo\",\n",
    "    \"LbrM2904 ortólogo\",\n",
    "    \"LbrM ortólogo\"\n",
    "]"
   ],
   "outputs": [],
   "execution_count": 15
  },
  {
   "cell_type": "code",
   "metadata": {
    "ExecuteTime": {
     "end_time": "2024-09-06T10:39:21.975194Z",
     "start_time": "2024-09-06T10:39:21.958776Z"
    }
   },
   "source": [
    "# Check the values:\n",
    "for i in range(len(braz_ortho_cols)):\n",
    "    mask = braz_ortho_cols[i]\n",
    "    print(f\"Numpy NaN values: {df_main[mask].isna().sum()}\")\n",
    "    print(df_main[mask].value_counts())\n",
    "    if i != len(braz_ortho_cols) - 1:\n",
    "        print(\"\\n\", \"=\"*50, \"\\n\", sep=\"\")"
   ],
   "outputs": [
    {
     "name": "stdout",
     "output_type": "stream",
     "text": [
      "Numpy NaN values: 8613\n",
      "LBRM2904 ortólogo\n",
      "-                    3\n",
      "LBRM2904_06.0090     2\n",
      "LBRM2904_05.0520     2\n",
      "LBRM2904_05.0200     1\n",
      "LBRM2904_05.0160     1\n",
      "                    ..\n",
      "LBRM2904_02.0140     1\n",
      "LBRM2904_02.0070     1\n",
      "LBRM2904_02.0030     1\n",
      "LBRM2904_02.0010     1\n",
      "LBRM2904_02.0390     1\n",
      "Name: count, Length: 264, dtype: int64\n",
      "\n",
      "==================================================\n",
      "\n",
      "Numpy NaN values: 8879\n",
      "LbrM2904 ortólogo\n",
      "LBRM2904_13.1180|LBRM2904_13.1190    1\n",
      "LBRM2904_28.2560                     1\n",
      "Name: count, dtype: int64\n",
      "\n",
      "==================================================\n",
      "\n",
      "Numpy NaN values: 8875\n",
      "LbrM ortólogo\n",
      "LBRM2904_17.1610    1\n",
      "LBRM2904_25.0530    1\n",
      "LBRM2904_30.2040    1\n",
      "LBRM2904_30.3180    1\n",
      "LBRM2904_31.2420    1\n",
      "LBRM2904_20.0020    1\n",
      "Name: count, dtype: int64\n"
     ]
    }
   ],
   "execution_count": 16
  },
  {
   "cell_type": "markdown",
   "metadata": {},
   "source": [
    "We can observe the following:\n",
    "* **LBRM2904 ortólogo**: has 8613 NaN values (the less of the three) so this one es the main one to use.\n",
    "* **LbrM2904 ortólogo**: except for 2 values, everything is NaN.\n",
    "* **LbrM ortólogo**: except for 6 values, everything is NaN."
   ]
  },
  {
   "cell_type": "code",
   "metadata": {
    "ExecuteTime": {
     "end_time": "2024-09-06T10:39:22.367369Z",
     "start_time": "2024-09-06T10:39:22.351049Z"
    }
   },
   "source": [
    "# Check where \"LbrM2904 ortólogo* is not NaN\n",
    "df_main.loc[\n",
    "    df_main[braz_ortho_cols[1]].notna(),\n",
    "    braz_ortho_cols\n",
    "    ]"
   ],
   "outputs": [
    {
     "data": {
      "text/plain": [
       "     LBRM2904 ortólogo                  LbrM2904 ortólogo LbrM ortólogo\n",
       "1696               NaN  LBRM2904_13.1180|LBRM2904_13.1190           NaN\n",
       "5069               NaN                   LBRM2904_28.2560           NaN"
      ],
      "text/html": [
       "<div>\n",
       "<style scoped>\n",
       "    .dataframe tbody tr th:only-of-type {\n",
       "        vertical-align: middle;\n",
       "    }\n",
       "\n",
       "    .dataframe tbody tr th {\n",
       "        vertical-align: top;\n",
       "    }\n",
       "\n",
       "    .dataframe thead th {\n",
       "        text-align: right;\n",
       "    }\n",
       "</style>\n",
       "<table border=\"1\" class=\"dataframe\">\n",
       "  <thead>\n",
       "    <tr style=\"text-align: right;\">\n",
       "      <th></th>\n",
       "      <th>LBRM2904 ortólogo</th>\n",
       "      <th>LbrM2904 ortólogo</th>\n",
       "      <th>LbrM ortólogo</th>\n",
       "    </tr>\n",
       "  </thead>\n",
       "  <tbody>\n",
       "    <tr>\n",
       "      <th>1696</th>\n",
       "      <td>NaN</td>\n",
       "      <td>LBRM2904_13.1180|LBRM2904_13.1190</td>\n",
       "      <td>NaN</td>\n",
       "    </tr>\n",
       "    <tr>\n",
       "      <th>5069</th>\n",
       "      <td>NaN</td>\n",
       "      <td>LBRM2904_28.2560</td>\n",
       "      <td>NaN</td>\n",
       "    </tr>\n",
       "  </tbody>\n",
       "</table>\n",
       "</div>"
      ]
     },
     "execution_count": 17,
     "metadata": {},
     "output_type": "execute_result"
    }
   ],
   "execution_count": 17
  },
  {
   "cell_type": "markdown",
   "metadata": {},
   "source": [
    "We can see how **LBRM2904 ortólogo** is NaN here. I the data of **LbrM2904 ortólogo** should be in **LBRM2904 ortólogo**"
   ]
  },
  {
   "cell_type": "code",
   "metadata": {
    "ExecuteTime": {
     "end_time": "2024-09-06T10:39:22.594871Z",
     "start_time": "2024-09-06T10:39:22.580225Z"
    }
   },
   "source": [
    "# Check where \"LbrM ortólogo\" is not NaN\n",
    "df_main.loc[\n",
    "    df_main[braz_ortho_cols[2]].notna(),\n",
    "    braz_ortho_cols\n",
    "    ]"
   ],
   "outputs": [
    {
     "data": {
      "text/plain": [
       "     LBRM2904 ortólogo LbrM2904 ortólogo     LbrM ortólogo\n",
       "2480               NaN               NaN  LBRM2904_17.1610\n",
       "4016               NaN               NaN  LBRM2904_25.0530\n",
       "5681               NaN               NaN  LBRM2904_30.2040\n",
       "5794               NaN               NaN  LBRM2904_30.3180\n",
       "6156               NaN               NaN  LBRM2904_31.2420\n",
       "7063               NaN               NaN  LBRM2904_20.0020"
      ],
      "text/html": [
       "<div>\n",
       "<style scoped>\n",
       "    .dataframe tbody tr th:only-of-type {\n",
       "        vertical-align: middle;\n",
       "    }\n",
       "\n",
       "    .dataframe tbody tr th {\n",
       "        vertical-align: top;\n",
       "    }\n",
       "\n",
       "    .dataframe thead th {\n",
       "        text-align: right;\n",
       "    }\n",
       "</style>\n",
       "<table border=\"1\" class=\"dataframe\">\n",
       "  <thead>\n",
       "    <tr style=\"text-align: right;\">\n",
       "      <th></th>\n",
       "      <th>LBRM2904 ortólogo</th>\n",
       "      <th>LbrM2904 ortólogo</th>\n",
       "      <th>LbrM ortólogo</th>\n",
       "    </tr>\n",
       "  </thead>\n",
       "  <tbody>\n",
       "    <tr>\n",
       "      <th>2480</th>\n",
       "      <td>NaN</td>\n",
       "      <td>NaN</td>\n",
       "      <td>LBRM2904_17.1610</td>\n",
       "    </tr>\n",
       "    <tr>\n",
       "      <th>4016</th>\n",
       "      <td>NaN</td>\n",
       "      <td>NaN</td>\n",
       "      <td>LBRM2904_25.0530</td>\n",
       "    </tr>\n",
       "    <tr>\n",
       "      <th>5681</th>\n",
       "      <td>NaN</td>\n",
       "      <td>NaN</td>\n",
       "      <td>LBRM2904_30.2040</td>\n",
       "    </tr>\n",
       "    <tr>\n",
       "      <th>5794</th>\n",
       "      <td>NaN</td>\n",
       "      <td>NaN</td>\n",
       "      <td>LBRM2904_30.3180</td>\n",
       "    </tr>\n",
       "    <tr>\n",
       "      <th>6156</th>\n",
       "      <td>NaN</td>\n",
       "      <td>NaN</td>\n",
       "      <td>LBRM2904_31.2420</td>\n",
       "    </tr>\n",
       "    <tr>\n",
       "      <th>7063</th>\n",
       "      <td>NaN</td>\n",
       "      <td>NaN</td>\n",
       "      <td>LBRM2904_20.0020</td>\n",
       "    </tr>\n",
       "  </tbody>\n",
       "</table>\n",
       "</div>"
      ]
     },
     "execution_count": 18,
     "metadata": {},
     "output_type": "execute_result"
    }
   ],
   "execution_count": 18
  },
  {
   "cell_type": "markdown",
   "metadata": {},
   "source": [
    "My guess is the same as before, all this data should be in **LBRM2904 ortólogo**"
   ]
  },
  {
   "cell_type": "code",
   "metadata": {
    "ExecuteTime": {
     "end_time": "2024-09-06T10:39:22.780667Z",
     "start_time": "2024-09-06T10:39:22.774807Z"
    }
   },
   "source": [
    "# Let's merge the two columns into \"LBRM2904 ortólogo\"\n",
    "# First with the \"LbrM2904 ortólogo\" column\n",
    "df_main.loc[:,\"LBRM2904 ortólogo\"] = df_main[\"LBRM2904 ortólogo\"].combine_first(df_main[\"LbrM2904 ortólogo\"])\n",
    "\n",
    "# Now with the \"LbrM ortólogo\" column\n",
    "df_main.loc[:,\"LBRM2904 ortólogo\"] = df_main[\"LBRM2904 ortólogo\"].combine_first(df_main[\"LbrM ortólogo\"])"
   ],
   "outputs": [],
   "execution_count": 19
  },
  {
   "cell_type": "code",
   "metadata": {
    "ExecuteTime": {
     "end_time": "2024-09-06T10:39:23.088388Z",
     "start_time": "2024-09-06T10:39:23.073811Z"
    }
   },
   "source": [
    "# Let's check if it worked\n",
    "df_main.loc[df_main[braz_ortho_cols[1]].notna(), braz_ortho_cols]"
   ],
   "outputs": [
    {
     "data": {
      "text/plain": [
       "                      LBRM2904 ortólogo                  LbrM2904 ortólogo  \\\n",
       "1696  LBRM2904_13.1180|LBRM2904_13.1190  LBRM2904_13.1180|LBRM2904_13.1190   \n",
       "5069                   LBRM2904_28.2560                   LBRM2904_28.2560   \n",
       "\n",
       "     LbrM ortólogo  \n",
       "1696           NaN  \n",
       "5069           NaN  "
      ],
      "text/html": [
       "<div>\n",
       "<style scoped>\n",
       "    .dataframe tbody tr th:only-of-type {\n",
       "        vertical-align: middle;\n",
       "    }\n",
       "\n",
       "    .dataframe tbody tr th {\n",
       "        vertical-align: top;\n",
       "    }\n",
       "\n",
       "    .dataframe thead th {\n",
       "        text-align: right;\n",
       "    }\n",
       "</style>\n",
       "<table border=\"1\" class=\"dataframe\">\n",
       "  <thead>\n",
       "    <tr style=\"text-align: right;\">\n",
       "      <th></th>\n",
       "      <th>LBRM2904 ortólogo</th>\n",
       "      <th>LbrM2904 ortólogo</th>\n",
       "      <th>LbrM ortólogo</th>\n",
       "    </tr>\n",
       "  </thead>\n",
       "  <tbody>\n",
       "    <tr>\n",
       "      <th>1696</th>\n",
       "      <td>LBRM2904_13.1180|LBRM2904_13.1190</td>\n",
       "      <td>LBRM2904_13.1180|LBRM2904_13.1190</td>\n",
       "      <td>NaN</td>\n",
       "    </tr>\n",
       "    <tr>\n",
       "      <th>5069</th>\n",
       "      <td>LBRM2904_28.2560</td>\n",
       "      <td>LBRM2904_28.2560</td>\n",
       "      <td>NaN</td>\n",
       "    </tr>\n",
       "  </tbody>\n",
       "</table>\n",
       "</div>"
      ]
     },
     "execution_count": 20,
     "metadata": {},
     "output_type": "execute_result"
    }
   ],
   "execution_count": 20
  },
  {
   "cell_type": "code",
   "metadata": {
    "ExecuteTime": {
     "end_time": "2024-09-06T10:39:23.316727Z",
     "start_time": "2024-09-06T10:39:23.300637Z"
    }
   },
   "source": [
    "# Check the other one\n",
    "df_main.loc[df_main[braz_ortho_cols[2]].notna(), braz_ortho_cols]"
   ],
   "outputs": [
    {
     "data": {
      "text/plain": [
       "     LBRM2904 ortólogo LbrM2904 ortólogo     LbrM ortólogo\n",
       "2480  LBRM2904_17.1610               NaN  LBRM2904_17.1610\n",
       "4016  LBRM2904_25.0530               NaN  LBRM2904_25.0530\n",
       "5681  LBRM2904_30.2040               NaN  LBRM2904_30.2040\n",
       "5794  LBRM2904_30.3180               NaN  LBRM2904_30.3180\n",
       "6156  LBRM2904_31.2420               NaN  LBRM2904_31.2420\n",
       "7063  LBRM2904_20.0020               NaN  LBRM2904_20.0020"
      ],
      "text/html": [
       "<div>\n",
       "<style scoped>\n",
       "    .dataframe tbody tr th:only-of-type {\n",
       "        vertical-align: middle;\n",
       "    }\n",
       "\n",
       "    .dataframe tbody tr th {\n",
       "        vertical-align: top;\n",
       "    }\n",
       "\n",
       "    .dataframe thead th {\n",
       "        text-align: right;\n",
       "    }\n",
       "</style>\n",
       "<table border=\"1\" class=\"dataframe\">\n",
       "  <thead>\n",
       "    <tr style=\"text-align: right;\">\n",
       "      <th></th>\n",
       "      <th>LBRM2904 ortólogo</th>\n",
       "      <th>LbrM2904 ortólogo</th>\n",
       "      <th>LbrM ortólogo</th>\n",
       "    </tr>\n",
       "  </thead>\n",
       "  <tbody>\n",
       "    <tr>\n",
       "      <th>2480</th>\n",
       "      <td>LBRM2904_17.1610</td>\n",
       "      <td>NaN</td>\n",
       "      <td>LBRM2904_17.1610</td>\n",
       "    </tr>\n",
       "    <tr>\n",
       "      <th>4016</th>\n",
       "      <td>LBRM2904_25.0530</td>\n",
       "      <td>NaN</td>\n",
       "      <td>LBRM2904_25.0530</td>\n",
       "    </tr>\n",
       "    <tr>\n",
       "      <th>5681</th>\n",
       "      <td>LBRM2904_30.2040</td>\n",
       "      <td>NaN</td>\n",
       "      <td>LBRM2904_30.2040</td>\n",
       "    </tr>\n",
       "    <tr>\n",
       "      <th>5794</th>\n",
       "      <td>LBRM2904_30.3180</td>\n",
       "      <td>NaN</td>\n",
       "      <td>LBRM2904_30.3180</td>\n",
       "    </tr>\n",
       "    <tr>\n",
       "      <th>6156</th>\n",
       "      <td>LBRM2904_31.2420</td>\n",
       "      <td>NaN</td>\n",
       "      <td>LBRM2904_31.2420</td>\n",
       "    </tr>\n",
       "    <tr>\n",
       "      <th>7063</th>\n",
       "      <td>LBRM2904_20.0020</td>\n",
       "      <td>NaN</td>\n",
       "      <td>LBRM2904_20.0020</td>\n",
       "    </tr>\n",
       "  </tbody>\n",
       "</table>\n",
       "</div>"
      ]
     },
     "execution_count": 21,
     "metadata": {},
     "output_type": "execute_result"
    }
   ],
   "execution_count": 21
  },
  {
   "cell_type": "markdown",
   "metadata": {},
   "source": [
    "Since it worked, let's remove the columns **LbrM2904 ortólo** and **LbrM ortólogo**"
   ]
  },
  {
   "cell_type": "code",
   "metadata": {
    "ExecuteTime": {
     "end_time": "2024-09-06T10:39:23.574691Z",
     "start_time": "2024-09-06T10:39:23.552976Z"
    }
   },
   "source": [
    "df_main = df_main.drop(columns=braz_ortho_cols[1:])\n",
    "df_main.head()"
   ],
   "outputs": [
    {
     "data": {
      "text/plain": [
       "         Etiqueta                                  Description Otros nombres  \\\n",
       "0  LINF_010005000        Protein of unknown function (DUF2946)  LinJ.01.0010   \n",
       "1  LINF_010005100  Endonuclease/Exonuclease/phosphatase family  LinJ.01.0020   \n",
       "2  LINF_010005200                                   Kinesin-13  LinJ.01.0030   \n",
       "3  LINF_010005300             hypothetical protein - conserved  LinJ.01.0040   \n",
       "4  LINF_010005400        Propionyl-CoA carboxylase - α-subunit  LinJ.01.0050   \n",
       "\n",
       "    Wikidata                         Mendeley dataset LmjF ortólogo  \\\n",
       "0  Q62005644  http://dx.doi.org/10.17632/m9mggnd5w4.1  LmjF.01.0010   \n",
       "1  Q65246947  http://dx.doi.org/10.17632/d99ycn2bhb.1  LmjF.01.0020   \n",
       "2  Q65459375  http://dx.doi.org/10.17632/vsmrprnpb5.2  LmjF.01.0030   \n",
       "3  Q65461401  http://dx.doi.org/10.17632/78btgwdkx9.1  LmjF.01.0040   \n",
       "4  Q65463295  http://dx.doi.org/10.17632/b79hrctkww.1  LmjF.01.0050   \n",
       "\n",
       "    LMJFC ortólogo LdHU3 ortólogo LBRM2904 ortólogo  \n",
       "0  LMJFC_010005100  LDHU3_01.0030               NaN  \n",
       "1  LMJFC_010005200  LDHU3_01.0040  LBRM2904_01.0010  \n",
       "2  LMJFC_010005300  LDHU3_01.0050  LBRM2904_01.0020  \n",
       "3  LMJFC_010005400  LDHU3_01.0060  LBRM2904_01.0030  \n",
       "4  LMJFC_010005500  LDHU3_01.0070  LBRM2904_01.0040  "
      ],
      "text/html": [
       "<div>\n",
       "<style scoped>\n",
       "    .dataframe tbody tr th:only-of-type {\n",
       "        vertical-align: middle;\n",
       "    }\n",
       "\n",
       "    .dataframe tbody tr th {\n",
       "        vertical-align: top;\n",
       "    }\n",
       "\n",
       "    .dataframe thead th {\n",
       "        text-align: right;\n",
       "    }\n",
       "</style>\n",
       "<table border=\"1\" class=\"dataframe\">\n",
       "  <thead>\n",
       "    <tr style=\"text-align: right;\">\n",
       "      <th></th>\n",
       "      <th>Etiqueta</th>\n",
       "      <th>Description</th>\n",
       "      <th>Otros nombres</th>\n",
       "      <th>Wikidata</th>\n",
       "      <th>Mendeley dataset</th>\n",
       "      <th>LmjF ortólogo</th>\n",
       "      <th>LMJFC ortólogo</th>\n",
       "      <th>LdHU3 ortólogo</th>\n",
       "      <th>LBRM2904 ortólogo</th>\n",
       "    </tr>\n",
       "  </thead>\n",
       "  <tbody>\n",
       "    <tr>\n",
       "      <th>0</th>\n",
       "      <td>LINF_010005000</td>\n",
       "      <td>Protein of unknown function (DUF2946)</td>\n",
       "      <td>LinJ.01.0010</td>\n",
       "      <td>Q62005644</td>\n",
       "      <td>http://dx.doi.org/10.17632/m9mggnd5w4.1</td>\n",
       "      <td>LmjF.01.0010</td>\n",
       "      <td>LMJFC_010005100</td>\n",
       "      <td>LDHU3_01.0030</td>\n",
       "      <td>NaN</td>\n",
       "    </tr>\n",
       "    <tr>\n",
       "      <th>1</th>\n",
       "      <td>LINF_010005100</td>\n",
       "      <td>Endonuclease/Exonuclease/phosphatase family</td>\n",
       "      <td>LinJ.01.0020</td>\n",
       "      <td>Q65246947</td>\n",
       "      <td>http://dx.doi.org/10.17632/d99ycn2bhb.1</td>\n",
       "      <td>LmjF.01.0020</td>\n",
       "      <td>LMJFC_010005200</td>\n",
       "      <td>LDHU3_01.0040</td>\n",
       "      <td>LBRM2904_01.0010</td>\n",
       "    </tr>\n",
       "    <tr>\n",
       "      <th>2</th>\n",
       "      <td>LINF_010005200</td>\n",
       "      <td>Kinesin-13</td>\n",
       "      <td>LinJ.01.0030</td>\n",
       "      <td>Q65459375</td>\n",
       "      <td>http://dx.doi.org/10.17632/vsmrprnpb5.2</td>\n",
       "      <td>LmjF.01.0030</td>\n",
       "      <td>LMJFC_010005300</td>\n",
       "      <td>LDHU3_01.0050</td>\n",
       "      <td>LBRM2904_01.0020</td>\n",
       "    </tr>\n",
       "    <tr>\n",
       "      <th>3</th>\n",
       "      <td>LINF_010005300</td>\n",
       "      <td>hypothetical protein - conserved</td>\n",
       "      <td>LinJ.01.0040</td>\n",
       "      <td>Q65461401</td>\n",
       "      <td>http://dx.doi.org/10.17632/78btgwdkx9.1</td>\n",
       "      <td>LmjF.01.0040</td>\n",
       "      <td>LMJFC_010005400</td>\n",
       "      <td>LDHU3_01.0060</td>\n",
       "      <td>LBRM2904_01.0030</td>\n",
       "    </tr>\n",
       "    <tr>\n",
       "      <th>4</th>\n",
       "      <td>LINF_010005400</td>\n",
       "      <td>Propionyl-CoA carboxylase - α-subunit</td>\n",
       "      <td>LinJ.01.0050</td>\n",
       "      <td>Q65463295</td>\n",
       "      <td>http://dx.doi.org/10.17632/b79hrctkww.1</td>\n",
       "      <td>LmjF.01.0050</td>\n",
       "      <td>LMJFC_010005500</td>\n",
       "      <td>LDHU3_01.0070</td>\n",
       "      <td>LBRM2904_01.0040</td>\n",
       "    </tr>\n",
       "  </tbody>\n",
       "</table>\n",
       "</div>"
      ]
     },
     "execution_count": 22,
     "metadata": {},
     "output_type": "execute_result"
    }
   ],
   "execution_count": 22
  },
  {
   "cell_type": "markdown",
   "metadata": {},
   "source": [
    "### 1.2.3 Check for np.nan values in \"Etiqueta\""
   ]
  },
  {
   "cell_type": "code",
   "metadata": {
    "ExecuteTime": {
     "end_time": "2024-09-06T10:39:23.972856Z",
     "start_time": "2024-09-06T10:39:23.960426Z"
    }
   },
   "source": [
    "# Checking np.nan values in the \"Etiqueta\" column\n",
    "print(f\"Numpy NaN values in 'Etiqueta' column: {df_main['Etiqueta'].isna().sum()}\")\n",
    "etiqueta_nan = df_main.loc[df_main['Etiqueta'].isna()]\n",
    "etiqueta_nan"
   ],
   "outputs": [
    {
     "name": "stdout",
     "output_type": "stream",
     "text": [
      "Numpy NaN values in 'Etiqueta' column: 155\n"
     ]
    },
    {
     "data": {
      "text/plain": [
       "     Etiqueta Description Otros nombres Wikidata Mendeley dataset  \\\n",
       "161       NaN         NaN           NaN      NaN              NaN   \n",
       "162       NaN         NaN           NaN      NaN              NaN   \n",
       "163       NaN         NaN           NaN      NaN              NaN   \n",
       "164       NaN         NaN           NaN      NaN              NaN   \n",
       "264       NaN         NaN           NaN      NaN              NaN   \n",
       "...       ...         ...           ...      ...              ...   \n",
       "8098      NaN         NaN           NaN      NaN              NaN   \n",
       "8877      NaN         NaN           NaN      NaN              NaN   \n",
       "8878      NaN         NaN           NaN      NaN              NaN   \n",
       "8879      NaN         NaN           NaN      NaN              NaN   \n",
       "8880      NaN         NaN           NaN      NaN              NaN   \n",
       "\n",
       "     LmjF ortólogo LMJFC ortólogo LdHU3 ortólogo LBRM2904 ortólogo  \n",
       "161            NaN            NaN            NaN               NaN  \n",
       "162            NaN            NaN            NaN               NaN  \n",
       "163            NaN            NaN            NaN               NaN  \n",
       "164            NaN            NaN            NaN               NaN  \n",
       "264            NaN            NaN            NaN               NaN  \n",
       "...            ...            ...            ...               ...  \n",
       "8098           NaN            NaN            NaN               NaN  \n",
       "8877           NaN            NaN            NaN               NaN  \n",
       "8878           NaN            NaN            NaN               NaN  \n",
       "8879           NaN            NaN            NaN               NaN  \n",
       "8880           NaN            NaN            NaN               NaN  \n",
       "\n",
       "[155 rows x 9 columns]"
      ],
      "text/html": [
       "<div>\n",
       "<style scoped>\n",
       "    .dataframe tbody tr th:only-of-type {\n",
       "        vertical-align: middle;\n",
       "    }\n",
       "\n",
       "    .dataframe tbody tr th {\n",
       "        vertical-align: top;\n",
       "    }\n",
       "\n",
       "    .dataframe thead th {\n",
       "        text-align: right;\n",
       "    }\n",
       "</style>\n",
       "<table border=\"1\" class=\"dataframe\">\n",
       "  <thead>\n",
       "    <tr style=\"text-align: right;\">\n",
       "      <th></th>\n",
       "      <th>Etiqueta</th>\n",
       "      <th>Description</th>\n",
       "      <th>Otros nombres</th>\n",
       "      <th>Wikidata</th>\n",
       "      <th>Mendeley dataset</th>\n",
       "      <th>LmjF ortólogo</th>\n",
       "      <th>LMJFC ortólogo</th>\n",
       "      <th>LdHU3 ortólogo</th>\n",
       "      <th>LBRM2904 ortólogo</th>\n",
       "    </tr>\n",
       "  </thead>\n",
       "  <tbody>\n",
       "    <tr>\n",
       "      <th>161</th>\n",
       "      <td>NaN</td>\n",
       "      <td>NaN</td>\n",
       "      <td>NaN</td>\n",
       "      <td>NaN</td>\n",
       "      <td>NaN</td>\n",
       "      <td>NaN</td>\n",
       "      <td>NaN</td>\n",
       "      <td>NaN</td>\n",
       "      <td>NaN</td>\n",
       "    </tr>\n",
       "    <tr>\n",
       "      <th>162</th>\n",
       "      <td>NaN</td>\n",
       "      <td>NaN</td>\n",
       "      <td>NaN</td>\n",
       "      <td>NaN</td>\n",
       "      <td>NaN</td>\n",
       "      <td>NaN</td>\n",
       "      <td>NaN</td>\n",
       "      <td>NaN</td>\n",
       "      <td>NaN</td>\n",
       "    </tr>\n",
       "    <tr>\n",
       "      <th>163</th>\n",
       "      <td>NaN</td>\n",
       "      <td>NaN</td>\n",
       "      <td>NaN</td>\n",
       "      <td>NaN</td>\n",
       "      <td>NaN</td>\n",
       "      <td>NaN</td>\n",
       "      <td>NaN</td>\n",
       "      <td>NaN</td>\n",
       "      <td>NaN</td>\n",
       "    </tr>\n",
       "    <tr>\n",
       "      <th>164</th>\n",
       "      <td>NaN</td>\n",
       "      <td>NaN</td>\n",
       "      <td>NaN</td>\n",
       "      <td>NaN</td>\n",
       "      <td>NaN</td>\n",
       "      <td>NaN</td>\n",
       "      <td>NaN</td>\n",
       "      <td>NaN</td>\n",
       "      <td>NaN</td>\n",
       "    </tr>\n",
       "    <tr>\n",
       "      <th>264</th>\n",
       "      <td>NaN</td>\n",
       "      <td>NaN</td>\n",
       "      <td>NaN</td>\n",
       "      <td>NaN</td>\n",
       "      <td>NaN</td>\n",
       "      <td>NaN</td>\n",
       "      <td>NaN</td>\n",
       "      <td>NaN</td>\n",
       "      <td>NaN</td>\n",
       "    </tr>\n",
       "    <tr>\n",
       "      <th>...</th>\n",
       "      <td>...</td>\n",
       "      <td>...</td>\n",
       "      <td>...</td>\n",
       "      <td>...</td>\n",
       "      <td>...</td>\n",
       "      <td>...</td>\n",
       "      <td>...</td>\n",
       "      <td>...</td>\n",
       "      <td>...</td>\n",
       "    </tr>\n",
       "    <tr>\n",
       "      <th>8098</th>\n",
       "      <td>NaN</td>\n",
       "      <td>NaN</td>\n",
       "      <td>NaN</td>\n",
       "      <td>NaN</td>\n",
       "      <td>NaN</td>\n",
       "      <td>NaN</td>\n",
       "      <td>NaN</td>\n",
       "      <td>NaN</td>\n",
       "      <td>NaN</td>\n",
       "    </tr>\n",
       "    <tr>\n",
       "      <th>8877</th>\n",
       "      <td>NaN</td>\n",
       "      <td>NaN</td>\n",
       "      <td>NaN</td>\n",
       "      <td>NaN</td>\n",
       "      <td>NaN</td>\n",
       "      <td>NaN</td>\n",
       "      <td>NaN</td>\n",
       "      <td>NaN</td>\n",
       "      <td>NaN</td>\n",
       "    </tr>\n",
       "    <tr>\n",
       "      <th>8878</th>\n",
       "      <td>NaN</td>\n",
       "      <td>NaN</td>\n",
       "      <td>NaN</td>\n",
       "      <td>NaN</td>\n",
       "      <td>NaN</td>\n",
       "      <td>NaN</td>\n",
       "      <td>NaN</td>\n",
       "      <td>NaN</td>\n",
       "      <td>NaN</td>\n",
       "    </tr>\n",
       "    <tr>\n",
       "      <th>8879</th>\n",
       "      <td>NaN</td>\n",
       "      <td>NaN</td>\n",
       "      <td>NaN</td>\n",
       "      <td>NaN</td>\n",
       "      <td>NaN</td>\n",
       "      <td>NaN</td>\n",
       "      <td>NaN</td>\n",
       "      <td>NaN</td>\n",
       "      <td>NaN</td>\n",
       "    </tr>\n",
       "    <tr>\n",
       "      <th>8880</th>\n",
       "      <td>NaN</td>\n",
       "      <td>NaN</td>\n",
       "      <td>NaN</td>\n",
       "      <td>NaN</td>\n",
       "      <td>NaN</td>\n",
       "      <td>NaN</td>\n",
       "      <td>NaN</td>\n",
       "      <td>NaN</td>\n",
       "      <td>NaN</td>\n",
       "    </tr>\n",
       "  </tbody>\n",
       "</table>\n",
       "<p>155 rows × 9 columns</p>\n",
       "</div>"
      ]
     },
     "execution_count": 23,
     "metadata": {},
     "output_type": "execute_result"
    }
   ],
   "execution_count": 23
  },
  {
   "cell_type": "code",
   "execution_count": 144,
   "metadata": {},
   "outputs": [
    {
     "name": "stdout",
     "output_type": "stream",
     "text": [
      "Numpy NaN values in 'Etiqueta' column: 0\n"
     ]
    }
   ],
   "source": [
    "# Remove those values from the df_main\n",
    "df_main = df_main.dropna(subset=[\"Etiqueta\"])  # Remove the rows with np.nan values in the \"Etiqueta\" column\n",
    "\n",
    "# Check again\n",
    "print(f\"Numpy NaN values in 'Etiqueta' column: {df_main['Etiqueta'].isna().sum()}\")"
   ]
  },
  {
   "metadata": {},
   "cell_type": "markdown",
   "source": "### 1.2.4 Check for elements that don't start with \"LINF\""
  },
  {
   "metadata": {
    "ExecuteTime": {
     "end_time": "2024-09-06T10:46:25.874739Z",
     "start_time": "2024-09-06T10:46:25.868904Z"
    }
   },
   "cell_type": "code",
   "source": [
    "# Original shape of df_main\n",
    "print(df_main.shape)"
   ],
   "outputs": [
    {
     "name": "stdout",
     "output_type": "stream",
     "text": [
      "(8881, 9)\n"
     ]
    }
   ],
   "execution_count": 30
  },
  {
   "metadata": {
    "ExecuteTime": {
     "end_time": "2024-09-06T10:42:16.178304Z",
     "start_time": "2024-09-06T10:42:16.152934Z"
    }
   },
   "cell_type": "code",
   "source": [
    "# Check the elements in column 'Etiqueta' that don't start with \"LINF\"\n",
    "df_main[df_main[\"Etiqueta\"].str.contains(r\"^(?!LINF)\", na=False)]"
   ],
   "outputs": [
    {
     "data": {
      "text/plain": [
       "                                               Etiqueta           Description  \\\n",
       "710               CDS embebida en CDS de LINF_070008000                   NaN   \n",
       "2081                                        No ortólogo                   NaN   \n",
       "2082                                        No ortólogo                   NaN   \n",
       "4746  No parece existir en L. infantum, sí que está ...                   NaN   \n",
       "4915                                        No ortólogo  hypothetical protein   \n",
       "5623                          No parece existir en LINF                   NaN   \n",
       "5626                          No parece existir en LINF                   NaN   \n",
       "\n",
       "     Otros nombres Wikidata Mendeley dataset                    LmjF ortólogo  \\\n",
       "710            NaN      NaN              NaN                              NaN   \n",
       "2081           NaN      NaN              NaN                     LmjF.15.1120   \n",
       "2082           NaN      NaN              NaN                     LmjF.15.1160   \n",
       "4746           NaN      NaN              NaN                    LmjF.27.T2035   \n",
       "4915           NaN      NaN              NaN                    LmjF.28.T0985   \n",
       "5623           NaN      NaN              NaN  Posible proteína: ATG en 489011   \n",
       "5626           NaN      NaN              NaN  Posible proteína: ATG en 495185   \n",
       "\n",
       "     LMJFC ortólogo LdHU3 ortólogo LBRM2904 ortólogo  \n",
       "710             NaN            NaN               NaN  \n",
       "2081            NaN            NaN               NaN  \n",
       "2082            NaN            NaN               NaN  \n",
       "4746            NaN            NaN               NaN  \n",
       "4915            NaN            NaN               NaN  \n",
       "5623            NaN            NaN               NaN  \n",
       "5626            NaN            NaN               NaN  "
      ],
      "text/html": [
       "<div>\n",
       "<style scoped>\n",
       "    .dataframe tbody tr th:only-of-type {\n",
       "        vertical-align: middle;\n",
       "    }\n",
       "\n",
       "    .dataframe tbody tr th {\n",
       "        vertical-align: top;\n",
       "    }\n",
       "\n",
       "    .dataframe thead th {\n",
       "        text-align: right;\n",
       "    }\n",
       "</style>\n",
       "<table border=\"1\" class=\"dataframe\">\n",
       "  <thead>\n",
       "    <tr style=\"text-align: right;\">\n",
       "      <th></th>\n",
       "      <th>Etiqueta</th>\n",
       "      <th>Description</th>\n",
       "      <th>Otros nombres</th>\n",
       "      <th>Wikidata</th>\n",
       "      <th>Mendeley dataset</th>\n",
       "      <th>LmjF ortólogo</th>\n",
       "      <th>LMJFC ortólogo</th>\n",
       "      <th>LdHU3 ortólogo</th>\n",
       "      <th>LBRM2904 ortólogo</th>\n",
       "    </tr>\n",
       "  </thead>\n",
       "  <tbody>\n",
       "    <tr>\n",
       "      <th>710</th>\n",
       "      <td>CDS embebida en CDS de LINF_070008000</td>\n",
       "      <td>NaN</td>\n",
       "      <td>NaN</td>\n",
       "      <td>NaN</td>\n",
       "      <td>NaN</td>\n",
       "      <td>NaN</td>\n",
       "      <td>NaN</td>\n",
       "      <td>NaN</td>\n",
       "      <td>NaN</td>\n",
       "    </tr>\n",
       "    <tr>\n",
       "      <th>2081</th>\n",
       "      <td>No ortólogo</td>\n",
       "      <td>NaN</td>\n",
       "      <td>NaN</td>\n",
       "      <td>NaN</td>\n",
       "      <td>NaN</td>\n",
       "      <td>LmjF.15.1120</td>\n",
       "      <td>NaN</td>\n",
       "      <td>NaN</td>\n",
       "      <td>NaN</td>\n",
       "    </tr>\n",
       "    <tr>\n",
       "      <th>2082</th>\n",
       "      <td>No ortólogo</td>\n",
       "      <td>NaN</td>\n",
       "      <td>NaN</td>\n",
       "      <td>NaN</td>\n",
       "      <td>NaN</td>\n",
       "      <td>LmjF.15.1160</td>\n",
       "      <td>NaN</td>\n",
       "      <td>NaN</td>\n",
       "      <td>NaN</td>\n",
       "    </tr>\n",
       "    <tr>\n",
       "      <th>4746</th>\n",
       "      <td>No parece existir en L. infantum, sí que está ...</td>\n",
       "      <td>NaN</td>\n",
       "      <td>NaN</td>\n",
       "      <td>NaN</td>\n",
       "      <td>NaN</td>\n",
       "      <td>LmjF.27.T2035</td>\n",
       "      <td>NaN</td>\n",
       "      <td>NaN</td>\n",
       "      <td>NaN</td>\n",
       "    </tr>\n",
       "    <tr>\n",
       "      <th>4915</th>\n",
       "      <td>No ortólogo</td>\n",
       "      <td>hypothetical protein</td>\n",
       "      <td>NaN</td>\n",
       "      <td>NaN</td>\n",
       "      <td>NaN</td>\n",
       "      <td>LmjF.28.T0985</td>\n",
       "      <td>NaN</td>\n",
       "      <td>NaN</td>\n",
       "      <td>NaN</td>\n",
       "    </tr>\n",
       "    <tr>\n",
       "      <th>5623</th>\n",
       "      <td>No parece existir en LINF</td>\n",
       "      <td>NaN</td>\n",
       "      <td>NaN</td>\n",
       "      <td>NaN</td>\n",
       "      <td>NaN</td>\n",
       "      <td>Posible proteína: ATG en 489011</td>\n",
       "      <td>NaN</td>\n",
       "      <td>NaN</td>\n",
       "      <td>NaN</td>\n",
       "    </tr>\n",
       "    <tr>\n",
       "      <th>5626</th>\n",
       "      <td>No parece existir en LINF</td>\n",
       "      <td>NaN</td>\n",
       "      <td>NaN</td>\n",
       "      <td>NaN</td>\n",
       "      <td>NaN</td>\n",
       "      <td>Posible proteína: ATG en 495185</td>\n",
       "      <td>NaN</td>\n",
       "      <td>NaN</td>\n",
       "      <td>NaN</td>\n",
       "    </tr>\n",
       "  </tbody>\n",
       "</table>\n",
       "</div>"
      ]
     },
     "execution_count": 28,
     "metadata": {},
     "output_type": "execute_result"
    }
   ],
   "execution_count": 28
  },
  {
   "metadata": {
    "ExecuteTime": {
     "end_time": "2024-09-06T10:50:54.246275Z",
     "start_time": "2024-09-06T10:50:54.231689Z"
    }
   },
   "cell_type": "code",
   "source": [
    "# Remove those values from the df_main \n",
    "df_main = df_main[~df_main[\"Etiqueta\"].str.contains(r\"^(?!LINF)\", na=False)]\n",
    "# Now restart the index\n",
    "df_main = df_main.reset_index(drop=True)\n",
    "print(df_main.shape)"
   ],
   "outputs": [
    {
     "name": "stdout",
     "output_type": "stream",
     "text": [
      "(8874, 9)\n"
     ]
    }
   ],
   "execution_count": 34
  },
  {
   "cell_type": "markdown",
   "metadata": {},
   "source": [
    "## 1.3 Modify data"
   ]
  },
  {
   "cell_type": "markdown",
   "metadata": {},
   "source": [
    "### 1.3.1 Description column"
   ]
  },
  {
   "cell_type": "markdown",
   "metadata": {},
   "source": [
    "Here are the names, something split by \"|\", let's split them by \",\""
   ]
  },
  {
   "cell_type": "code",
   "execution_count": 145,
   "metadata": {},
   "outputs": [
    {
     "data": {
      "text/plain": [
       "9                                 Fucosyltransferase|FUT2\n",
       "20                                            ZC3H27|CSBP\n",
       "21                                   cyclophilin 12|CyP12\n",
       "27      mt-LAF3|mitoribosomal LSU assembly factor 3|ps...\n",
       "34                    Mitochondrial pyruvate carrier|MPC1\n",
       "                              ...                        \n",
       "8865              RNA editing complex protein MP63|KREPA2\n",
       "8867                  Protein disulfide isomerase 2|PDI52\n",
       "8871    eukaryotic translation initiation factor 3 sub...\n",
       "8874                       Histone acetyltransferase|HAT3\n",
       "8875                  Cytochrome oxidase subunit IX|COXIX\n",
       "Name: Description, Length: 1573, dtype: object"
      ]
     },
     "execution_count": 145,
     "metadata": {},
     "output_type": "execute_result"
    }
   ],
   "source": [
    "# Check elements with \"|\"; be careful with the numpy NaN values\n",
    "df_main.loc[df_main[\"Description\"].str.contains(r\"\\|\", na=False), \"Description\"]"
   ]
  },
  {
   "cell_type": "code",
   "execution_count": 146,
   "metadata": {},
   "outputs": [],
   "source": [
    "# Let's read the \"Description\" column and if there are values separated by \"|\", let's split them by \",\" instead\n",
    "df_main.loc[:, \"Description\"] = df_main[\"Description\"].str.replace(\"|\", \";\")"
   ]
  },
  {
   "cell_type": "code",
   "execution_count": 147,
   "metadata": {},
   "outputs": [
    {
     "data": {
      "text/plain": [
       "Series([], Name: Description, dtype: object)"
      ]
     },
     "execution_count": 147,
     "metadata": {},
     "output_type": "execute_result"
    }
   ],
   "source": [
    "# Check if it worked by searching \"|\" again\n",
    "df_main.loc[df_main[\"Description\"].str.contains(r\"\\|\", na=False), \"Description\"]"
   ]
  },
  {
   "cell_type": "code",
   "execution_count": 148,
   "metadata": {},
   "outputs": [
    {
     "data": {
      "text/plain": [
       "9                                 Fucosyltransferase;FUT2\n",
       "20                                            ZC3H27;CSBP\n",
       "21                                   cyclophilin 12;CyP12\n",
       "27      mt-LAF3;mitoribosomal LSU assembly factor 3;ps...\n",
       "34                    Mitochondrial pyruvate carrier;MPC1\n",
       "                              ...                        \n",
       "8865              RNA editing complex protein MP63;KREPA2\n",
       "8867                  Protein disulfide isomerase 2;PDI52\n",
       "8871    eukaryotic translation initiation factor 3 sub...\n",
       "8874                       Histone acetyltransferase;HAT3\n",
       "8875                  Cytochrome oxidase subunit IX;COXIX\n",
       "Name: Description, Length: 1573, dtype: object"
      ]
     },
     "execution_count": 148,
     "metadata": {},
     "output_type": "execute_result"
    }
   ],
   "source": [
    "# And searching \";\" now:\n",
    "df_main.loc[df_main[\"Description\"].str.contains(r\";\", na=False), \"Description\"]"
   ]
  },
  {
   "cell_type": "markdown",
   "metadata": {},
   "source": [
    "### 1.3.2 Wikidata column"
   ]
  },
  {
   "cell_type": "markdown",
   "metadata": {},
   "source": [
    "For example, to search for a the wiki data \"Q62005644\" it would be something like: https://www.wikidata.org/wiki/Q62005644"
   ]
  },
  {
   "cell_type": "code",
   "execution_count": 149,
   "metadata": {},
   "outputs": [
    {
     "data": {
      "text/plain": [
       "np.int64(3218)"
      ]
     },
     "execution_count": 149,
     "metadata": {},
     "output_type": "execute_result"
    }
   ],
   "source": [
    "# Check if there are numpy nan values in the \"WikiData\" column\n",
    "df_main[\"Wikidata\"].isna().sum()"
   ]
  },
  {
   "cell_type": "markdown",
   "metadata": {},
   "source": [
    "In the np.nan cases, let it stay as np.nan"
   ]
  },
  {
   "cell_type": "code",
   "execution_count": 150,
   "metadata": {},
   "outputs": [
    {
     "data": {
      "text/plain": [
       "0        https://www.wikidata.org/wiki/Q62005644\n",
       "1        https://www.wikidata.org/wiki/Q65246947\n",
       "2        https://www.wikidata.org/wiki/Q65459375\n",
       "3        https://www.wikidata.org/wiki/Q65461401\n",
       "4        https://www.wikidata.org/wiki/Q65463295\n",
       "                          ...                   \n",
       "8871     https://www.wikidata.org/wiki/Q64624105\n",
       "8873    https://www.wikidata.org/wiki/Q108084512\n",
       "8874    https://www.wikidata.org/wiki/Q110559335\n",
       "8875     https://www.wikidata.org/wiki/Q94697040\n",
       "8876     https://www.wikidata.org/wiki/Q96250673\n",
       "Name: Wikidata, Length: 5508, dtype: object"
      ]
     },
     "execution_count": 150,
     "metadata": {},
     "output_type": "execute_result"
    }
   ],
   "source": [
    "# In the \"Wikidata\" column, if there are not NaN values, let's create a URL like https://www.wikidata.org/wiki/x where x is the value in the \"Wikidata\" column. \n",
    "df_main.loc[df_main[\"Wikidata\"].notna(), \"Wikidata\"] = \"https://www.wikidata.org/wiki/\" + df_main.loc[df_main[\"Wikidata\"].notna(), \"Wikidata\"]\n",
    "\n",
    "# Check if it worked\n",
    "df_main.loc[df_main[\"Wikidata\"].notna(), \"Wikidata\"]"
   ]
  },
  {
   "cell_type": "code",
   "execution_count": 151,
   "metadata": {},
   "outputs": [
    {
     "data": {
      "text/plain": [
       "203     NaN\n",
       "204     NaN\n",
       "207     NaN\n",
       "211     NaN\n",
       "212     NaN\n",
       "       ... \n",
       "8859    NaN\n",
       "8862    NaN\n",
       "8866    NaN\n",
       "8870    NaN\n",
       "8872    NaN\n",
       "Name: Wikidata, Length: 3218, dtype: object"
      ]
     },
     "execution_count": 151,
     "metadata": {},
     "output_type": "execute_result"
    }
   ],
   "source": [
    "# And check the NaN values\n",
    "df_main.loc[df_main[\"Wikidata\"].isna(), \"Wikidata\"]"
   ]
  },
  {
   "cell_type": "markdown",
   "metadata": {},
   "source": [
    "### 1.3.3 Mendeley column"
   ]
  },
  {
   "cell_type": "code",
   "execution_count": 152,
   "metadata": {},
   "outputs": [
    {
     "name": "stdout",
     "output_type": "stream",
     "text": [
      "NaN values: 3499\n"
     ]
    },
    {
     "data": {
      "text/plain": [
       "Mendeley dataset\n",
       "DOI: 10.17632/mjdvj8yrh2.1                 2\n",
       "DOI:10.17632/9wp56jkpnr.1                  1\n",
       "http://dx.doi.org/10.17632/g74tpkh8ss.1    1\n",
       "DOI: 10.17632/m8jvzmw82r.1                 1\n",
       "DOI:10.17632/dz8wb5z33r.1                  1\n",
       "                                          ..\n",
       "DOI:10.17632/zhk2dyygz2.1                  1\n",
       "DOI:10.17632/59c4jpj6gj.1                  1\n",
       "DOI:10.17632/67h3b3xzz3.1                  1\n",
       "DOI:10.17632/cvtbdpwmtj.1                  1\n",
       "DOI:10.17632/5fcnjt2cvf.1                  1\n",
       "Name: count, Length: 5226, dtype: int64"
      ]
     },
     "execution_count": 152,
     "metadata": {},
     "output_type": "execute_result"
    }
   ],
   "source": [
    "# Let's analyze the column first\n",
    "# Check np.nan values\n",
    "print(f\"NaN values: {df_main[\"Mendeley dataset\"].isna().sum()}\")\n",
    "\n",
    "# Check the values\n",
    "df_main[\"Mendeley dataset\"].value_counts()"
   ]
  },
  {
   "cell_type": "markdown",
   "metadata": {},
   "source": [
    "We can see there are:\n",
    "*  **np.nan** values\n",
    "*  DOI:...\n",
    "*  http://....."
   ]
  },
  {
   "cell_type": "code",
   "execution_count": 153,
   "metadata": {},
   "outputs": [
    {
     "data": {
      "text/plain": [
       "Mendeley dataset\n",
       "DOI:    4542\n",
       "http     682\n",
       "doi:       2\n",
       "10.1       1\n",
       "Name: count, dtype: int64"
      ]
     },
     "execution_count": 153,
     "metadata": {},
     "output_type": "execute_result"
    }
   ],
   "source": [
    "# Let's take only hte first 4 characters of the \"Mendeley dataset\" column and then use .value_counts() to see the values\n",
    "mendeley_col_test = df_main[\"Mendeley dataset\"].str[:4]\n",
    "mendeley_col_test.value_counts()"
   ]
  },
  {
   "cell_type": "markdown",
   "metadata": {},
   "source": [
    "Here we know more, there are 4 types:\n",
    "* DOI:\n",
    "* http:\n",
    "* doi:\n",
    "* 10.1\n",
    "\n",
    "We'll have to be careful, but what do we need to search in Mendeley dataset?\n",
    "\n",
    "For example for a DOI such as DOI:10.17632/g74tpkh8ss.1 the web search will be:\n",
    "* https://data.mendeley.com/datasets/g74tpkh8ss/1\n",
    "  * We can check how we only need the mixture of letters and numbers after the DOI number. And that the \"point\" is replaced by \"/\""
   ]
  },
  {
   "cell_type": "code",
   "execution_count": 154,
   "metadata": {},
   "outputs": [
    {
     "data": {
      "text/plain": [
       "Mendeley dataset\n",
       "DOI: 10.17632/    1651\n",
       "http://dx.doi.     672\n",
       "DOI:10.17632/5     144\n",
       "DOI:10.17632/s     134\n",
       "DOI:10.17632/2     123\n",
       "DOI:10.17632/p     122\n",
       "DOI:10.17632/v     122\n",
       "DOI:10.17632/3     121\n",
       "DOI:10.17632/b     117\n",
       "DOI:10.17632/f     115\n",
       "DOI:10.17632/y     114\n",
       "DOI:10.17632/9     114\n",
       "DOI:10.17632/t     114\n",
       "DOI:10.17632/8     112\n",
       "DOI:10.17632/z     105\n",
       "DOI:10.17632/x     104\n",
       "DOI:10.17632/j     104\n",
       "DOI:10.17632/r     101\n",
       "DOI:10.17632/m      99\n",
       "DOI:10.17632/g      98\n",
       "DOI:10.17632/n      98\n",
       "DOI:10.17632/k      97\n",
       "DOI:10.17632/6      96\n",
       "DOI:10.17632/w      95\n",
       "DOI:10.17632/c      92\n",
       "DOI:10.17632/4      90\n",
       "DOI:10.17632/h      89\n",
       "DOI:10.17632/d      87\n",
       "DOI:10.17632/7      84\n",
       "https://data.m      10\n",
       "doi: 10.17632/       2\n",
       "10.17632/7gc3r       1\n",
       "Name: count, dtype: int64"
      ]
     },
     "execution_count": 154,
     "metadata": {},
     "output_type": "execute_result"
    }
   ],
   "source": [
    "# Let's take the first 14 characters now\n",
    "mendeley_col_test = df_main[\"Mendeley dataset\"].str[:14]\n",
    "mendeley_col_test.value_counts()"
   ]
  },
  {
   "cell_type": "markdown",
   "metadata": {},
   "source": [
    "Something interesting here is that the DOI number is <\"two numbers\":\"5 numbers\"/>. We can use REGEX from the \"two numbers\":  until the \"numenrs\"/"
   ]
  },
  {
   "cell_type": "code",
   "execution_count": 155,
   "metadata": {},
   "outputs": [
    {
     "name": "stdout",
     "output_type": "stream",
     "text": [
      "0           \n",
      "mjdvj8yrh2.1    2\n",
      "p6c26w5nrf.1    1\n",
      "p6b9s6zfy5.1    1\n",
      "p69z3v2b55.1    1\n",
      "p5pdkzjr3r.1    1\n",
      "               ..\n",
      "bsmtxzw63x.1    1\n",
      "bskf33ws95.1    1\n",
      "bsk67y5fxb.1    1\n",
      "bsg3vbyzns.1    1\n",
      "btjjvsz8z9.1    1\n",
      "Name: count, Length: 5216, dtype: int64\n",
      "<class 'pandas.core.frame.DataFrame'>\n",
      "==================================================\n",
      "0\n",
      "mjdvj8yrh2/1    2\n",
      "nwtms3s4pj/1    1\n",
      "p3rpt2dz85/1    1\n",
      "xhgk4f5wv8/1    1\n",
      "fvjvwsfjfg/1    1\n",
      "               ..\n",
      "pv6bfn472b/1    1\n",
      "bfn5v8xbbb/1    1\n",
      "x8p8jpdk25/1    1\n",
      "498bdcvvkz/1    1\n",
      "snsdrt6892/1    1\n",
      "Name: count, Length: 5216, dtype: int64\n",
      "==================================================\n",
      "0\n",
      "https://data.mendeley.com/datasets/mjdvj8yrh2/1    2\n",
      "https://data.mendeley.com/datasets/nwtms3s4pj/1    1\n",
      "https://data.mendeley.com/datasets/p3rpt2dz85/1    1\n",
      "https://data.mendeley.com/datasets/xhgk4f5wv8/1    1\n",
      "https://data.mendeley.com/datasets/fvjvwsfjfg/1    1\n",
      "                                                  ..\n",
      "https://data.mendeley.com/datasets/pv6bfn472b/1    1\n",
      "https://data.mendeley.com/datasets/bfn5v8xbbb/1    1\n",
      "https://data.mendeley.com/datasets/x8p8jpdk25/1    1\n",
      "https://data.mendeley.com/datasets/498bdcvvkz/1    1\n",
      "https://data.mendeley.com/datasets/snsdrt6892/1    1\n",
      "Name: count, Length: 5216, dtype: int64\n"
     ]
    }
   ],
   "source": [
    "# Let's make a regex to extract the numbers after the number like 10.17632/{number}\n",
    "mendeley_col_test = df_main[\"Mendeley dataset\"].str.extract(r\"\\d{2}\\.\\d+/(\\S+)\")\n",
    "print(mendeley_col_test.value_counts())\n",
    "print(type(mendeley_col_test))\n",
    "print(\"=\"*50)\n",
    "\n",
    "# Replace the \".\" by \"/\" in the Data\n",
    "mendeley_col_test = mendeley_col_test[0].str.replace(\".\", \"/\")\n",
    "print(mendeley_col_test.value_counts())\n",
    "print(\"=\"*50)\n",
    "\n",
    "# Add at the begining \"https://data.mendeley.com/datasets/\"\n",
    "mendeley_col_test = \"https://data.mendeley.com/datasets/\" + mendeley_col_test\n",
    "print(mendeley_col_test.value_counts())\n",
    "\n",
    "# Replace the column df_main[\"Mendeley dataset\"] by the new values in mendeley_col_test\n",
    "df_main[\"Mendeley dataset\"] = mendeley_col_test"
   ]
  },
  {
   "cell_type": "code",
   "execution_count": 156,
   "metadata": {},
   "outputs": [
    {
     "name": "stdout",
     "output_type": "stream",
     "text": [
      "0       https://data.mendeley.com/datasets/m9mggnd5w4/1\n",
      "1       https://data.mendeley.com/datasets/d99ycn2bhb/1\n",
      "2       https://data.mendeley.com/datasets/vsmrprnpb5/2\n",
      "3       https://data.mendeley.com/datasets/78btgwdkx9/1\n",
      "4       https://data.mendeley.com/datasets/b79hrctkww/1\n",
      "                             ...                       \n",
      "8872                                                NaN\n",
      "8873    https://data.mendeley.com/datasets/d9h57y36dc/1\n",
      "8874    https://data.mendeley.com/datasets/985vk3v8zw/1\n",
      "8875    https://data.mendeley.com/datasets/mmm3xczkp4/1\n",
      "8876    https://data.mendeley.com/datasets/hvskp3c57v/1\n",
      "Name: Mendeley dataset, Length: 8726, dtype: object\n"
     ]
    },
    {
     "data": {
      "text/html": [
       "<div>\n",
       "<style scoped>\n",
       "    .dataframe tbody tr th:only-of-type {\n",
       "        vertical-align: middle;\n",
       "    }\n",
       "\n",
       "    .dataframe tbody tr th {\n",
       "        vertical-align: top;\n",
       "    }\n",
       "\n",
       "    .dataframe thead th {\n",
       "        text-align: right;\n",
       "    }\n",
       "</style>\n",
       "<table border=\"1\" class=\"dataframe\">\n",
       "  <thead>\n",
       "    <tr style=\"text-align: right;\">\n",
       "      <th></th>\n",
       "      <th>Etiqueta</th>\n",
       "      <th>Description</th>\n",
       "      <th>Otros nombres</th>\n",
       "      <th>Wikidata</th>\n",
       "      <th>Mendeley dataset</th>\n",
       "      <th>LmjF ortólogo</th>\n",
       "      <th>LMJFC ortólogo</th>\n",
       "      <th>LdHU3 ortólogo</th>\n",
       "      <th>LBRM2904 ortólogo</th>\n",
       "    </tr>\n",
       "  </thead>\n",
       "  <tbody>\n",
       "    <tr>\n",
       "      <th>0</th>\n",
       "      <td>LINF_010005000</td>\n",
       "      <td>Protein of unknown function (DUF2946)</td>\n",
       "      <td>LinJ.01.0010</td>\n",
       "      <td>https://www.wikidata.org/wiki/Q62005644</td>\n",
       "      <td>https://data.mendeley.com/datasets/m9mggnd5w4/1</td>\n",
       "      <td>LmjF.01.0010</td>\n",
       "      <td>LMJFC_010005100</td>\n",
       "      <td>LDHU3_01.0030</td>\n",
       "      <td>NaN</td>\n",
       "    </tr>\n",
       "    <tr>\n",
       "      <th>1</th>\n",
       "      <td>LINF_010005100</td>\n",
       "      <td>Endonuclease/Exonuclease/phosphatase family</td>\n",
       "      <td>LinJ.01.0020</td>\n",
       "      <td>https://www.wikidata.org/wiki/Q65246947</td>\n",
       "      <td>https://data.mendeley.com/datasets/d99ycn2bhb/1</td>\n",
       "      <td>LmjF.01.0020</td>\n",
       "      <td>LMJFC_010005200</td>\n",
       "      <td>LDHU3_01.0040</td>\n",
       "      <td>LBRM2904_01.0010</td>\n",
       "    </tr>\n",
       "    <tr>\n",
       "      <th>2</th>\n",
       "      <td>LINF_010005200</td>\n",
       "      <td>Kinesin-13</td>\n",
       "      <td>LinJ.01.0030</td>\n",
       "      <td>https://www.wikidata.org/wiki/Q65459375</td>\n",
       "      <td>https://data.mendeley.com/datasets/vsmrprnpb5/2</td>\n",
       "      <td>LmjF.01.0030</td>\n",
       "      <td>LMJFC_010005300</td>\n",
       "      <td>LDHU3_01.0050</td>\n",
       "      <td>LBRM2904_01.0020</td>\n",
       "    </tr>\n",
       "    <tr>\n",
       "      <th>3</th>\n",
       "      <td>LINF_010005300</td>\n",
       "      <td>hypothetical protein - conserved</td>\n",
       "      <td>LinJ.01.0040</td>\n",
       "      <td>https://www.wikidata.org/wiki/Q65461401</td>\n",
       "      <td>https://data.mendeley.com/datasets/78btgwdkx9/1</td>\n",
       "      <td>LmjF.01.0040</td>\n",
       "      <td>LMJFC_010005400</td>\n",
       "      <td>LDHU3_01.0060</td>\n",
       "      <td>LBRM2904_01.0030</td>\n",
       "    </tr>\n",
       "    <tr>\n",
       "      <th>4</th>\n",
       "      <td>LINF_010005400</td>\n",
       "      <td>Propionyl-CoA carboxylase - α-subunit</td>\n",
       "      <td>LinJ.01.0050</td>\n",
       "      <td>https://www.wikidata.org/wiki/Q65463295</td>\n",
       "      <td>https://data.mendeley.com/datasets/b79hrctkww/1</td>\n",
       "      <td>LmjF.01.0050</td>\n",
       "      <td>LMJFC_010005500</td>\n",
       "      <td>LDHU3_01.0070</td>\n",
       "      <td>LBRM2904_01.0040</td>\n",
       "    </tr>\n",
       "  </tbody>\n",
       "</table>\n",
       "</div>"
      ],
      "text/plain": [
       "         Etiqueta                                  Description Otros nombres  \\\n",
       "0  LINF_010005000        Protein of unknown function (DUF2946)  LinJ.01.0010   \n",
       "1  LINF_010005100  Endonuclease/Exonuclease/phosphatase family  LinJ.01.0020   \n",
       "2  LINF_010005200                                   Kinesin-13  LinJ.01.0030   \n",
       "3  LINF_010005300             hypothetical protein - conserved  LinJ.01.0040   \n",
       "4  LINF_010005400        Propionyl-CoA carboxylase - α-subunit  LinJ.01.0050   \n",
       "\n",
       "                                  Wikidata  \\\n",
       "0  https://www.wikidata.org/wiki/Q62005644   \n",
       "1  https://www.wikidata.org/wiki/Q65246947   \n",
       "2  https://www.wikidata.org/wiki/Q65459375   \n",
       "3  https://www.wikidata.org/wiki/Q65461401   \n",
       "4  https://www.wikidata.org/wiki/Q65463295   \n",
       "\n",
       "                                  Mendeley dataset LmjF ortólogo  \\\n",
       "0  https://data.mendeley.com/datasets/m9mggnd5w4/1  LmjF.01.0010   \n",
       "1  https://data.mendeley.com/datasets/d99ycn2bhb/1  LmjF.01.0020   \n",
       "2  https://data.mendeley.com/datasets/vsmrprnpb5/2  LmjF.01.0030   \n",
       "3  https://data.mendeley.com/datasets/78btgwdkx9/1  LmjF.01.0040   \n",
       "4  https://data.mendeley.com/datasets/b79hrctkww/1  LmjF.01.0050   \n",
       "\n",
       "    LMJFC ortólogo LdHU3 ortólogo LBRM2904 ortólogo  \n",
       "0  LMJFC_010005100  LDHU3_01.0030               NaN  \n",
       "1  LMJFC_010005200  LDHU3_01.0040  LBRM2904_01.0010  \n",
       "2  LMJFC_010005300  LDHU3_01.0050  LBRM2904_01.0020  \n",
       "3  LMJFC_010005400  LDHU3_01.0060  LBRM2904_01.0030  \n",
       "4  LMJFC_010005500  LDHU3_01.0070  LBRM2904_01.0040  "
      ]
     },
     "execution_count": 156,
     "metadata": {},
     "output_type": "execute_result"
    }
   ],
   "source": [
    "# Check if it worked\n",
    "print(df_main[\"Mendeley dataset\"])\n",
    "\n",
    "# Check head\n",
    "df_main.head()"
   ]
  },
  {
   "cell_type": "markdown",
   "metadata": {},
   "source": [
    "### 1.3.4 Uniprot column"
   ]
  },
  {
   "cell_type": "markdown",
   "metadata": {},
   "source": [
    "Here we have to search by the unit in UniProt, we would need to use the advance search and search by \"Gene Name\". The query search would be: `https://www.uniprot.org/uniprotkb?query=%28gene%3A<gene_name>%29`\n",
    "\n",
    "For example for LINF_010005000 it would be: `ttps://www.uniprot.org/uniprotkb?query=%28gene%3ALINF_010005000%29`"
   ]
  },
  {
   "cell_type": "code",
   "execution_count": 157,
   "metadata": {},
   "outputs": [
    {
     "name": "stdout",
     "output_type": "stream",
     "text": [
      "Index(['Etiqueta', 'Description', 'Otros nombres', 'Wikidata',\n",
      "       'Mendeley dataset', 'UniProt', 'LmjF ortólogo', 'LMJFC ortólogo',\n",
      "       'LdHU3 ortólogo', 'LBRM2904 ortólogo'],\n",
      "      dtype='object')\n"
     ]
    },
    {
     "data": {
      "text/html": [
       "<div>\n",
       "<style scoped>\n",
       "    .dataframe tbody tr th:only-of-type {\n",
       "        vertical-align: middle;\n",
       "    }\n",
       "\n",
       "    .dataframe tbody tr th {\n",
       "        vertical-align: top;\n",
       "    }\n",
       "\n",
       "    .dataframe thead th {\n",
       "        text-align: right;\n",
       "    }\n",
       "</style>\n",
       "<table border=\"1\" class=\"dataframe\">\n",
       "  <thead>\n",
       "    <tr style=\"text-align: right;\">\n",
       "      <th></th>\n",
       "      <th>Etiqueta</th>\n",
       "      <th>Description</th>\n",
       "      <th>Otros nombres</th>\n",
       "      <th>Wikidata</th>\n",
       "      <th>Mendeley dataset</th>\n",
       "      <th>UniProt</th>\n",
       "      <th>LmjF ortólogo</th>\n",
       "      <th>LMJFC ortólogo</th>\n",
       "      <th>LdHU3 ortólogo</th>\n",
       "      <th>LBRM2904 ortólogo</th>\n",
       "    </tr>\n",
       "  </thead>\n",
       "  <tbody>\n",
       "    <tr>\n",
       "      <th>0</th>\n",
       "      <td>LINF_010005000</td>\n",
       "      <td>Protein of unknown function (DUF2946)</td>\n",
       "      <td>LinJ.01.0010</td>\n",
       "      <td>https://www.wikidata.org/wiki/Q62005644</td>\n",
       "      <td>https://data.mendeley.com/datasets/m9mggnd5w4/1</td>\n",
       "      <td>https://www.uniprot.org/uniprotkb?query=%28gen...</td>\n",
       "      <td>LmjF.01.0010</td>\n",
       "      <td>LMJFC_010005100</td>\n",
       "      <td>LDHU3_01.0030</td>\n",
       "      <td>NaN</td>\n",
       "    </tr>\n",
       "    <tr>\n",
       "      <th>1</th>\n",
       "      <td>LINF_010005100</td>\n",
       "      <td>Endonuclease/Exonuclease/phosphatase family</td>\n",
       "      <td>LinJ.01.0020</td>\n",
       "      <td>https://www.wikidata.org/wiki/Q65246947</td>\n",
       "      <td>https://data.mendeley.com/datasets/d99ycn2bhb/1</td>\n",
       "      <td>https://www.uniprot.org/uniprotkb?query=%28gen...</td>\n",
       "      <td>LmjF.01.0020</td>\n",
       "      <td>LMJFC_010005200</td>\n",
       "      <td>LDHU3_01.0040</td>\n",
       "      <td>LBRM2904_01.0010</td>\n",
       "    </tr>\n",
       "    <tr>\n",
       "      <th>2</th>\n",
       "      <td>LINF_010005200</td>\n",
       "      <td>Kinesin-13</td>\n",
       "      <td>LinJ.01.0030</td>\n",
       "      <td>https://www.wikidata.org/wiki/Q65459375</td>\n",
       "      <td>https://data.mendeley.com/datasets/vsmrprnpb5/2</td>\n",
       "      <td>https://www.uniprot.org/uniprotkb?query=%28gen...</td>\n",
       "      <td>LmjF.01.0030</td>\n",
       "      <td>LMJFC_010005300</td>\n",
       "      <td>LDHU3_01.0050</td>\n",
       "      <td>LBRM2904_01.0020</td>\n",
       "    </tr>\n",
       "    <tr>\n",
       "      <th>3</th>\n",
       "      <td>LINF_010005300</td>\n",
       "      <td>hypothetical protein - conserved</td>\n",
       "      <td>LinJ.01.0040</td>\n",
       "      <td>https://www.wikidata.org/wiki/Q65461401</td>\n",
       "      <td>https://data.mendeley.com/datasets/78btgwdkx9/1</td>\n",
       "      <td>https://www.uniprot.org/uniprotkb?query=%28gen...</td>\n",
       "      <td>LmjF.01.0040</td>\n",
       "      <td>LMJFC_010005400</td>\n",
       "      <td>LDHU3_01.0060</td>\n",
       "      <td>LBRM2904_01.0030</td>\n",
       "    </tr>\n",
       "    <tr>\n",
       "      <th>4</th>\n",
       "      <td>LINF_010005400</td>\n",
       "      <td>Propionyl-CoA carboxylase - α-subunit</td>\n",
       "      <td>LinJ.01.0050</td>\n",
       "      <td>https://www.wikidata.org/wiki/Q65463295</td>\n",
       "      <td>https://data.mendeley.com/datasets/b79hrctkww/1</td>\n",
       "      <td>https://www.uniprot.org/uniprotkb?query=%28gen...</td>\n",
       "      <td>LmjF.01.0050</td>\n",
       "      <td>LMJFC_010005500</td>\n",
       "      <td>LDHU3_01.0070</td>\n",
       "      <td>LBRM2904_01.0040</td>\n",
       "    </tr>\n",
       "  </tbody>\n",
       "</table>\n",
       "</div>"
      ],
      "text/plain": [
       "         Etiqueta                                  Description Otros nombres  \\\n",
       "0  LINF_010005000        Protein of unknown function (DUF2946)  LinJ.01.0010   \n",
       "1  LINF_010005100  Endonuclease/Exonuclease/phosphatase family  LinJ.01.0020   \n",
       "2  LINF_010005200                                   Kinesin-13  LinJ.01.0030   \n",
       "3  LINF_010005300             hypothetical protein - conserved  LinJ.01.0040   \n",
       "4  LINF_010005400        Propionyl-CoA carboxylase - α-subunit  LinJ.01.0050   \n",
       "\n",
       "                                  Wikidata  \\\n",
       "0  https://www.wikidata.org/wiki/Q62005644   \n",
       "1  https://www.wikidata.org/wiki/Q65246947   \n",
       "2  https://www.wikidata.org/wiki/Q65459375   \n",
       "3  https://www.wikidata.org/wiki/Q65461401   \n",
       "4  https://www.wikidata.org/wiki/Q65463295   \n",
       "\n",
       "                                  Mendeley dataset  \\\n",
       "0  https://data.mendeley.com/datasets/m9mggnd5w4/1   \n",
       "1  https://data.mendeley.com/datasets/d99ycn2bhb/1   \n",
       "2  https://data.mendeley.com/datasets/vsmrprnpb5/2   \n",
       "3  https://data.mendeley.com/datasets/78btgwdkx9/1   \n",
       "4  https://data.mendeley.com/datasets/b79hrctkww/1   \n",
       "\n",
       "                                             UniProt LmjF ortólogo  \\\n",
       "0  https://www.uniprot.org/uniprotkb?query=%28gen...  LmjF.01.0010   \n",
       "1  https://www.uniprot.org/uniprotkb?query=%28gen...  LmjF.01.0020   \n",
       "2  https://www.uniprot.org/uniprotkb?query=%28gen...  LmjF.01.0030   \n",
       "3  https://www.uniprot.org/uniprotkb?query=%28gen...  LmjF.01.0040   \n",
       "4  https://www.uniprot.org/uniprotkb?query=%28gen...  LmjF.01.0050   \n",
       "\n",
       "    LMJFC ortólogo LdHU3 ortólogo LBRM2904 ortólogo  \n",
       "0  LMJFC_010005100  LDHU3_01.0030               NaN  \n",
       "1  LMJFC_010005200  LDHU3_01.0040  LBRM2904_01.0010  \n",
       "2  LMJFC_010005300  LDHU3_01.0050  LBRM2904_01.0020  \n",
       "3  LMJFC_010005400  LDHU3_01.0060  LBRM2904_01.0030  \n",
       "4  LMJFC_010005500  LDHU3_01.0070  LBRM2904_01.0040  "
      ]
     },
     "execution_count": 157,
     "metadata": {},
     "output_type": "execute_result"
    }
   ],
   "source": [
    "# Create a UniProt Column with the \"Etiqueta\" column and the url\n",
    "df_main[\"UniProt\"] = \"https://www.uniprot.org/uniprotkb?query=%28gene%3A\" + df_main[\"Etiqueta\"] + \"%29\"\n",
    "\n",
    "# Move the column after \"Mendelet dataset\"\n",
    "col_list = df_main.columns.tolist()  # Get the columns list\n",
    "col_list.insert(\n",
    "    col_list.index(\"Mendeley dataset\") + 1,\n",
    "    col_list.pop(col_list.index(\"UniProt\"))\n",
    "    )\n",
    "\n",
    "# Reorder the columns\n",
    "df_main = df_main[col_list]\n",
    "print(df_main.columns)\n",
    "df_main.head()"
   ]
  },
  {
   "cell_type": "markdown",
   "metadata": {},
   "source": [
    "### 1.3.5 Rename columns"
   ]
  },
  {
   "cell_type": "code",
   "execution_count": 158,
   "metadata": {},
   "outputs": [
    {
     "data": {
      "text/html": [
       "<div>\n",
       "<style scoped>\n",
       "    .dataframe tbody tr th:only-of-type {\n",
       "        vertical-align: middle;\n",
       "    }\n",
       "\n",
       "    .dataframe tbody tr th {\n",
       "        vertical-align: top;\n",
       "    }\n",
       "\n",
       "    .dataframe thead th {\n",
       "        text-align: right;\n",
       "    }\n",
       "</style>\n",
       "<table border=\"1\" class=\"dataframe\">\n",
       "  <thead>\n",
       "    <tr style=\"text-align: right;\">\n",
       "      <th></th>\n",
       "      <th>Gene_ID</th>\n",
       "      <th>Name</th>\n",
       "      <th>Other_names</th>\n",
       "      <th>Wikidata</th>\n",
       "      <th>Mendeley</th>\n",
       "      <th>UniProt</th>\n",
       "      <th>LmjF_ortholog</th>\n",
       "      <th>LmjFC_ortholog</th>\n",
       "      <th>LdHU3_ortholog</th>\n",
       "      <th>LBRM2904_ortholog</th>\n",
       "    </tr>\n",
       "  </thead>\n",
       "  <tbody>\n",
       "    <tr>\n",
       "      <th>0</th>\n",
       "      <td>LINF_010005000</td>\n",
       "      <td>Protein of unknown function (DUF2946)</td>\n",
       "      <td>LinJ.01.0010</td>\n",
       "      <td>https://www.wikidata.org/wiki/Q62005644</td>\n",
       "      <td>https://data.mendeley.com/datasets/m9mggnd5w4/1</td>\n",
       "      <td>https://www.uniprot.org/uniprotkb?query=%28gen...</td>\n",
       "      <td>LmjF.01.0010</td>\n",
       "      <td>LMJFC_010005100</td>\n",
       "      <td>LDHU3_01.0030</td>\n",
       "      <td>NaN</td>\n",
       "    </tr>\n",
       "    <tr>\n",
       "      <th>1</th>\n",
       "      <td>LINF_010005100</td>\n",
       "      <td>Endonuclease/Exonuclease/phosphatase family</td>\n",
       "      <td>LinJ.01.0020</td>\n",
       "      <td>https://www.wikidata.org/wiki/Q65246947</td>\n",
       "      <td>https://data.mendeley.com/datasets/d99ycn2bhb/1</td>\n",
       "      <td>https://www.uniprot.org/uniprotkb?query=%28gen...</td>\n",
       "      <td>LmjF.01.0020</td>\n",
       "      <td>LMJFC_010005200</td>\n",
       "      <td>LDHU3_01.0040</td>\n",
       "      <td>LBRM2904_01.0010</td>\n",
       "    </tr>\n",
       "    <tr>\n",
       "      <th>2</th>\n",
       "      <td>LINF_010005200</td>\n",
       "      <td>Kinesin-13</td>\n",
       "      <td>LinJ.01.0030</td>\n",
       "      <td>https://www.wikidata.org/wiki/Q65459375</td>\n",
       "      <td>https://data.mendeley.com/datasets/vsmrprnpb5/2</td>\n",
       "      <td>https://www.uniprot.org/uniprotkb?query=%28gen...</td>\n",
       "      <td>LmjF.01.0030</td>\n",
       "      <td>LMJFC_010005300</td>\n",
       "      <td>LDHU3_01.0050</td>\n",
       "      <td>LBRM2904_01.0020</td>\n",
       "    </tr>\n",
       "    <tr>\n",
       "      <th>3</th>\n",
       "      <td>LINF_010005300</td>\n",
       "      <td>hypothetical protein - conserved</td>\n",
       "      <td>LinJ.01.0040</td>\n",
       "      <td>https://www.wikidata.org/wiki/Q65461401</td>\n",
       "      <td>https://data.mendeley.com/datasets/78btgwdkx9/1</td>\n",
       "      <td>https://www.uniprot.org/uniprotkb?query=%28gen...</td>\n",
       "      <td>LmjF.01.0040</td>\n",
       "      <td>LMJFC_010005400</td>\n",
       "      <td>LDHU3_01.0060</td>\n",
       "      <td>LBRM2904_01.0030</td>\n",
       "    </tr>\n",
       "    <tr>\n",
       "      <th>4</th>\n",
       "      <td>LINF_010005400</td>\n",
       "      <td>Propionyl-CoA carboxylase - α-subunit</td>\n",
       "      <td>LinJ.01.0050</td>\n",
       "      <td>https://www.wikidata.org/wiki/Q65463295</td>\n",
       "      <td>https://data.mendeley.com/datasets/b79hrctkww/1</td>\n",
       "      <td>https://www.uniprot.org/uniprotkb?query=%28gen...</td>\n",
       "      <td>LmjF.01.0050</td>\n",
       "      <td>LMJFC_010005500</td>\n",
       "      <td>LDHU3_01.0070</td>\n",
       "      <td>LBRM2904_01.0040</td>\n",
       "    </tr>\n",
       "  </tbody>\n",
       "</table>\n",
       "</div>"
      ],
      "text/plain": [
       "          Gene_ID                                         Name   Other_names  \\\n",
       "0  LINF_010005000        Protein of unknown function (DUF2946)  LinJ.01.0010   \n",
       "1  LINF_010005100  Endonuclease/Exonuclease/phosphatase family  LinJ.01.0020   \n",
       "2  LINF_010005200                                   Kinesin-13  LinJ.01.0030   \n",
       "3  LINF_010005300             hypothetical protein - conserved  LinJ.01.0040   \n",
       "4  LINF_010005400        Propionyl-CoA carboxylase - α-subunit  LinJ.01.0050   \n",
       "\n",
       "                                  Wikidata  \\\n",
       "0  https://www.wikidata.org/wiki/Q62005644   \n",
       "1  https://www.wikidata.org/wiki/Q65246947   \n",
       "2  https://www.wikidata.org/wiki/Q65459375   \n",
       "3  https://www.wikidata.org/wiki/Q65461401   \n",
       "4  https://www.wikidata.org/wiki/Q65463295   \n",
       "\n",
       "                                          Mendeley  \\\n",
       "0  https://data.mendeley.com/datasets/m9mggnd5w4/1   \n",
       "1  https://data.mendeley.com/datasets/d99ycn2bhb/1   \n",
       "2  https://data.mendeley.com/datasets/vsmrprnpb5/2   \n",
       "3  https://data.mendeley.com/datasets/78btgwdkx9/1   \n",
       "4  https://data.mendeley.com/datasets/b79hrctkww/1   \n",
       "\n",
       "                                             UniProt LmjF_ortholog  \\\n",
       "0  https://www.uniprot.org/uniprotkb?query=%28gen...  LmjF.01.0010   \n",
       "1  https://www.uniprot.org/uniprotkb?query=%28gen...  LmjF.01.0020   \n",
       "2  https://www.uniprot.org/uniprotkb?query=%28gen...  LmjF.01.0030   \n",
       "3  https://www.uniprot.org/uniprotkb?query=%28gen...  LmjF.01.0040   \n",
       "4  https://www.uniprot.org/uniprotkb?query=%28gen...  LmjF.01.0050   \n",
       "\n",
       "    LmjFC_ortholog LdHU3_ortholog LBRM2904_ortholog  \n",
       "0  LMJFC_010005100  LDHU3_01.0030               NaN  \n",
       "1  LMJFC_010005200  LDHU3_01.0040  LBRM2904_01.0010  \n",
       "2  LMJFC_010005300  LDHU3_01.0050  LBRM2904_01.0020  \n",
       "3  LMJFC_010005400  LDHU3_01.0060  LBRM2904_01.0030  \n",
       "4  LMJFC_010005500  LDHU3_01.0070  LBRM2904_01.0040  "
      ]
     },
     "execution_count": 158,
     "metadata": {},
     "output_type": "execute_result"
    }
   ],
   "source": [
    "# New names for the columns\n",
    "new_cols = [\n",
    "    \"Gene_ID\",\n",
    "    \"Name\",\n",
    "    \"Other_names\",\n",
    "    \"Wikidata\",\n",
    "    \"Mendeley\",\n",
    "    \"UniProt\",\n",
    "    \"LmjF_ortholog\",\n",
    "    \"LmjFC_ortholog\",\n",
    "    \"LdHU3_ortholog\",\n",
    "    \"LBRM2904_ortholog\"\n",
    "]\n",
    "\n",
    "# Rename the columns\n",
    "df_main.columns = new_cols\n",
    "\n",
    "# Check the columns\n",
    "df_main.head()"
   ]
  },
  {
   "cell_type": "markdown",
   "metadata": {},
   "source": [
    "## 1.4 Prepare data to HTML links"
   ]
  },
  {
   "cell_type": "markdown",
   "metadata": {},
   "source": [
    "Here we'll need to prepare the columns **Wikidata**, **Mendeley** and **UniProt** so they will have a HTML link and be shorter that way"
   ]
  },
  {
   "cell_type": "code",
   "execution_count": 159,
   "metadata": {},
   "outputs": [
    {
     "data": {
      "text/html": [
       "<div>\n",
       "<style scoped>\n",
       "    .dataframe tbody tr th:only-of-type {\n",
       "        vertical-align: middle;\n",
       "    }\n",
       "\n",
       "    .dataframe tbody tr th {\n",
       "        vertical-align: top;\n",
       "    }\n",
       "\n",
       "    .dataframe thead th {\n",
       "        text-align: right;\n",
       "    }\n",
       "</style>\n",
       "<table border=\"1\" class=\"dataframe\">\n",
       "  <thead>\n",
       "    <tr style=\"text-align: right;\">\n",
       "      <th></th>\n",
       "      <th>Wikidata</th>\n",
       "      <th>Mendeley</th>\n",
       "      <th>UniProt</th>\n",
       "    </tr>\n",
       "  </thead>\n",
       "  <tbody>\n",
       "    <tr>\n",
       "      <th>0</th>\n",
       "      <td>&lt;a href=\"https://www.wikidata.org/wiki/Q620056...</td>\n",
       "      <td>&lt;a href=\"https://data.mendeley.com/datasets/m9...</td>\n",
       "      <td>&lt;a href=\"https://www.uniprot.org/uniprotkb?que...</td>\n",
       "    </tr>\n",
       "    <tr>\n",
       "      <th>1</th>\n",
       "      <td>&lt;a href=\"https://www.wikidata.org/wiki/Q652469...</td>\n",
       "      <td>&lt;a href=\"https://data.mendeley.com/datasets/d9...</td>\n",
       "      <td>&lt;a href=\"https://www.uniprot.org/uniprotkb?que...</td>\n",
       "    </tr>\n",
       "    <tr>\n",
       "      <th>2</th>\n",
       "      <td>&lt;a href=\"https://www.wikidata.org/wiki/Q654593...</td>\n",
       "      <td>&lt;a href=\"https://data.mendeley.com/datasets/vs...</td>\n",
       "      <td>&lt;a href=\"https://www.uniprot.org/uniprotkb?que...</td>\n",
       "    </tr>\n",
       "    <tr>\n",
       "      <th>3</th>\n",
       "      <td>&lt;a href=\"https://www.wikidata.org/wiki/Q654614...</td>\n",
       "      <td>&lt;a href=\"https://data.mendeley.com/datasets/78...</td>\n",
       "      <td>&lt;a href=\"https://www.uniprot.org/uniprotkb?que...</td>\n",
       "    </tr>\n",
       "    <tr>\n",
       "      <th>4</th>\n",
       "      <td>&lt;a href=\"https://www.wikidata.org/wiki/Q654632...</td>\n",
       "      <td>&lt;a href=\"https://data.mendeley.com/datasets/b7...</td>\n",
       "      <td>&lt;a href=\"https://www.uniprot.org/uniprotkb?que...</td>\n",
       "    </tr>\n",
       "  </tbody>\n",
       "</table>\n",
       "</div>"
      ],
      "text/plain": [
       "                                            Wikidata  \\\n",
       "0  <a href=\"https://www.wikidata.org/wiki/Q620056...   \n",
       "1  <a href=\"https://www.wikidata.org/wiki/Q652469...   \n",
       "2  <a href=\"https://www.wikidata.org/wiki/Q654593...   \n",
       "3  <a href=\"https://www.wikidata.org/wiki/Q654614...   \n",
       "4  <a href=\"https://www.wikidata.org/wiki/Q654632...   \n",
       "\n",
       "                                            Mendeley  \\\n",
       "0  <a href=\"https://data.mendeley.com/datasets/m9...   \n",
       "1  <a href=\"https://data.mendeley.com/datasets/d9...   \n",
       "2  <a href=\"https://data.mendeley.com/datasets/vs...   \n",
       "3  <a href=\"https://data.mendeley.com/datasets/78...   \n",
       "4  <a href=\"https://data.mendeley.com/datasets/b7...   \n",
       "\n",
       "                                             UniProt  \n",
       "0  <a href=\"https://www.uniprot.org/uniprotkb?que...  \n",
       "1  <a href=\"https://www.uniprot.org/uniprotkb?que...  \n",
       "2  <a href=\"https://www.uniprot.org/uniprotkb?que...  \n",
       "3  <a href=\"https://www.uniprot.org/uniprotkb?que...  \n",
       "4  <a href=\"https://www.uniprot.org/uniprotkb?que...  "
      ]
     },
     "execution_count": 159,
     "metadata": {},
     "output_type": "execute_result"
    }
   ],
   "source": [
    "# Adapt the URL link of the columns Wikidata, Mendeley and UniProt for HTML links \"_blank\" with the column names as the link name.\n",
    "# If there are no values, let it stay as NaN\n",
    "df_main[\"Wikidata\"] = df_main[\"Wikidata\"].apply(lambda x: f'<a href=\"{x}\" target=\"_blank\">Wikidata</a>' if pd.notna(x) else np.nan)\n",
    "df_main[\"Mendeley\"] = df_main[\"Mendeley\"].apply(lambda x: f'<a href=\"{x}\" target=\"_blank\">Mendeley</a>' if pd.notna(x) else np.nan)\n",
    "df_main[\"UniProt\"] = df_main[\"UniProt\"].apply(lambda x: f'<a href=\"{x}\" target=\"_blank\">UniProt</a>' if pd.notna(x) else np.nan)\n",
    "\n",
    "# Check the columns\n",
    "df_main.loc[:, [\"Wikidata\", \"Mendeley\", \"UniProt\"]].head()"
   ]
  },
  {
   "cell_type": "markdown",
   "metadata": {},
   "source": [
    "# 2. SQL database"
   ]
  },
  {
   "cell_type": "code",
   "execution_count": 160,
   "metadata": {},
   "outputs": [],
   "source": [
    "sqlite_db = \"../leishmania.db\""
   ]
  },
  {
   "cell_type": "code",
   "execution_count": 161,
   "metadata": {},
   "outputs": [
    {
     "name": "stdout",
     "output_type": "stream",
     "text": [
      "[('infantum',)]\n"
     ]
    }
   ],
   "source": [
    "# Connect to the sqlite database\n",
    "conn = sqlite3.connect(sqlite_db)\n",
    "cursor = conn.cursor()\n",
    "\n",
    "# Check if there is already a table claled \"infantum\"\n",
    "cursor.execute(\"SELECT name FROM sqlite_master WHERE type='table' AND name='infantum'\")\n",
    "print(cursor.fetchall())"
   ]
  },
  {
   "cell_type": "code",
   "execution_count": 162,
   "metadata": {},
   "outputs": [
    {
     "name": "stdout",
     "output_type": "stream",
     "text": [
      "[(0, 'Gene_ID', 'TEXT', 0, None, 0), (1, 'Name', 'TEXT', 0, None, 0), (2, 'Other_names', 'TEXT', 0, None, 0), (3, 'Wikidata', 'TEXT', 0, None, 0), (4, 'Mendeley', 'TEXT', 0, None, 0), (5, 'UniProt', 'TEXT', 0, None, 0), (6, 'LmjF_ortholog', 'TEXT', 0, None, 0), (7, 'LmjFC_ortholog', 'TEXT', 0, None, 0), (8, 'LdHU3_ortholog', 'TEXT', 0, None, 0), (9, 'LBRM2904_ortholog', 'TEXT', 0, None, 0)]\n"
     ]
    }
   ],
   "source": [
    "# Since there already exists a table called \"infantum\", let's print the schema\n",
    "cursor.execute(\"PRAGMA table_info(infantum)\")\n",
    "print(cursor.fetchall())"
   ]
  },
  {
   "cell_type": "code",
   "execution_count": 163,
   "metadata": {},
   "outputs": [
    {
     "name": "stdout",
     "output_type": "stream",
     "text": [
      "[('LINF_010005000', 'Protein of unknown function (DUF2946)', 'LinJ.01.0010', '<a href=\"https://www.wikidata.org/wiki/Q62005644\" target=\"_blank\">Wikidata</a>', '<a href=\"https://data.mendeley.com/datasets/m9mggnd5w4/1\" target=\"_blank\">Mendeley</a>', '<a href=\"https://www.uniprot.org/uniprotkb?query=%28gene%3ALINF_010005000%29\" target=\"_blank\">UniProt</a>', 'LmjF.01.0010', 'LMJFC_010005100', 'LDHU3_01.0030', None), ('LINF_010005100', 'Endonuclease/Exonuclease/phosphatase family', 'LinJ.01.0020', '<a href=\"https://www.wikidata.org/wiki/Q65246947\" target=\"_blank\">Wikidata</a>', '<a href=\"https://data.mendeley.com/datasets/d99ycn2bhb/1\" target=\"_blank\">Mendeley</a>', '<a href=\"https://www.uniprot.org/uniprotkb?query=%28gene%3ALINF_010005100%29\" target=\"_blank\">UniProt</a>', 'LmjF.01.0020', 'LMJFC_010005200', 'LDHU3_01.0040', 'LBRM2904_01.0010'), ('LINF_010005200', 'Kinesin-13', 'LinJ.01.0030', '<a href=\"https://www.wikidata.org/wiki/Q65459375\" target=\"_blank\">Wikidata</a>', '<a href=\"https://data.mendeley.com/datasets/vsmrprnpb5/2\" target=\"_blank\">Mendeley</a>', '<a href=\"https://www.uniprot.org/uniprotkb?query=%28gene%3ALINF_010005200%29\" target=\"_blank\">UniProt</a>', 'LmjF.01.0030', 'LMJFC_010005300', 'LDHU3_01.0050', 'LBRM2904_01.0020'), ('LINF_010005300', 'hypothetical protein - conserved', 'LinJ.01.0040', '<a href=\"https://www.wikidata.org/wiki/Q65461401\" target=\"_blank\">Wikidata</a>', '<a href=\"https://data.mendeley.com/datasets/78btgwdkx9/1\" target=\"_blank\">Mendeley</a>', '<a href=\"https://www.uniprot.org/uniprotkb?query=%28gene%3ALINF_010005300%29\" target=\"_blank\">UniProt</a>', 'LmjF.01.0040', 'LMJFC_010005400', 'LDHU3_01.0060', 'LBRM2904_01.0030'), ('LINF_010005400', 'Propionyl-CoA carboxylase - α-subunit', 'LinJ.01.0050', '<a href=\"https://www.wikidata.org/wiki/Q65463295\" target=\"_blank\">Wikidata</a>', '<a href=\"https://data.mendeley.com/datasets/b79hrctkww/1\" target=\"_blank\">Mendeley</a>', '<a href=\"https://www.uniprot.org/uniprotkb?query=%28gene%3ALINF_010005400%29\" target=\"_blank\">UniProt</a>', 'LmjF.01.0050', 'LMJFC_010005500', 'LDHU3_01.0070', 'LBRM2904_01.0040'), ('LINF_010005500', 'mitoribosomal protein mL85', 'LinJ.01.0060', '<a href=\"https://www.wikidata.org/wiki/Q65495288\" target=\"_blank\">Wikidata</a>', '<a href=\"https://data.mendeley.com/datasets/kjgf2yh6rc/1\" target=\"_blank\">Mendeley</a>', '<a href=\"https://www.uniprot.org/uniprotkb?query=%28gene%3ALINF_010005500%29\" target=\"_blank\">UniProt</a>', 'LmjF.01.0060', 'LMJFC_010005600', 'LDHU3_01.0080', 'LBRM2904_01.0050'), ('LINF_010005600', 'BSD- domain containing protein ', 'LinJ.01.0070', '<a href=\"https://www.wikidata.org/wiki/Q65495483\" target=\"_blank\">Wikidata</a>', '<a href=\"https://data.mendeley.com/datasets/g4mm5yvx2d/1\" target=\"_blank\">Mendeley</a>', '<a href=\"https://www.uniprot.org/uniprotkb?query=%28gene%3ALINF_010005600%29\" target=\"_blank\">UniProt</a>', 'LmjF.01.0070', 'LMJFC_010005700', 'LDHU3_01.0090', 'LBRM2904_01.0060'), ('LINF_010005700', 'Hypothetical protein - conserved', 'LinJ.01.0080', '<a href=\"https://www.wikidata.org/wiki/Q65499045\" target=\"_blank\">Wikidata</a>', '<a href=\"https://data.mendeley.com/datasets/4vmzckmmxk/1\" target=\"_blank\">Mendeley</a>', '<a href=\"https://www.uniprot.org/uniprotkb?query=%28gene%3ALINF_010005700%29\" target=\"_blank\">UniProt</a>', 'LmjF.01.0080', 'LMJFC_010005800', 'LDHU3_01.0100', 'LBRM2904_01.0070'), ('LINF_010005800', 'mitochondrial UMP-CMP kinase', 'LinJ.01.0090', '<a href=\"https://www.wikidata.org/wiki/Q65499893\" target=\"_blank\">Wikidata</a>', '<a href=\"https://data.mendeley.com/datasets/m8ncdtv82f/1\" target=\"_blank\">Mendeley</a>', '<a href=\"https://www.uniprot.org/uniprotkb?query=%28gene%3ALINF_010005800%29\" target=\"_blank\">UniProt</a>', 'LmjF.01.0090', 'LMJFC_010005900', 'LDHU3_01.0110', 'LBRM2904_01.0080'), ('LINF_010005900', 'Fucosyltransferase;FUT2', 'LinJ.01.0100', '<a href=\"https://www.wikidata.org/wiki/Q65500432\" target=\"_blank\">Wikidata</a>', '<a href=\"https://data.mendeley.com/datasets/svv6f4cm7w/1\" target=\"_blank\">Mendeley</a>', '<a href=\"https://www.uniprot.org/uniprotkb?query=%28gene%3ALINF_010005900%29\" target=\"_blank\">UniProt</a>', 'LmjF.01.0100', 'LMJFC_010006000', 'LDHU3_01.0120', 'LBRM2904_01.0090')]\n"
     ]
    }
   ],
   "source": [
    "# Clear the table and replace it with the new data in \"col_list\" where everythin is a VARCHAR(255) except for the \"id\" which is an INTEGER PRIMARY KEY and \"WikiData\", \"Mendeley\" and \"UniProt\" which are TEXT\n",
    "cursor.execute(\"DROP TABLE infantum\")\n",
    "\n",
    "# Create the table\n",
    "cursor.execute(\"\"\"\n",
    "CREATE TABLE infantum (\n",
    "    id INTEGER PRIMARY KEY,\n",
    "    Gene_ID VARCHAR(255),\n",
    "    Name VARCHAR(255),\n",
    "    Other_names VARCHAR(255),\n",
    "    Wikidata TEXT,\n",
    "    Mendeley TEXT,\n",
    "    UniProt TEXT,\n",
    "    LmjF_ortholog VARCHAR(255),\n",
    "    LmjFC_ortholog VARCHAR(255),\n",
    "    LdHU3_ortholog VARCHAR(255),\n",
    "    LBRM2904_ortholog VARCHAR(255)\n",
    "    )\n",
    "    \"\"\")\n",
    "\n",
    "# Insert the data\n",
    "df_main.to_sql(\"infantum\", conn, if_exists=\"replace\", index=False)\n",
    "\n",
    "# Check if the data was inserted\n",
    "cursor.execute(\"\"\"\n",
    "               SELECT * \n",
    "               FROM infantum \n",
    "               LIMIT 10\n",
    "               \"\"\")   \n",
    "print(cursor.fetchall())"
   ]
  }
 ],
 "metadata": {
  "kernelspec": {
   "display_name": "Python 3 (ipykernel)",
   "language": "python",
   "name": "python3"
  },
  "language_info": {
   "codemirror_mode": {
    "name": "ipython",
    "version": 3
   },
   "file_extension": ".py",
   "mimetype": "text/x-python",
   "name": "python",
   "nbconvert_exporter": "python",
   "pygments_lexer": "ipython3",
   "version": "3.12.4"
  }
 },
 "nbformat": 4,
 "nbformat_minor": 4
}
